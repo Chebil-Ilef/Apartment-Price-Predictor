{
 "cells": [
  {
   "cell_type": "code",
   "execution_count": 35,
   "metadata": {},
   "outputs": [],
   "source": [
    "import pandas as pd\n",
    "from sklearn.model_selection import train_test_split, learning_curve, cross_val_score, GridSearchCV\n",
    "from sklearn.metrics import mean_squared_error, r2_score, mean_absolute_error, mean_absolute_percentage_error\n",
    "import numpy as np\n",
    "import matplotlib.pyplot as plt\n",
    "from sklearn.ensemble import RandomForestRegressor"
   ]
  },
  {
   "cell_type": "code",
   "execution_count": 20,
   "metadata": {},
   "outputs": [
    {
     "data": {
      "text/html": [
       "<div>\n",
       "<style scoped>\n",
       "    .dataframe tbody tr th:only-of-type {\n",
       "        vertical-align: middle;\n",
       "    }\n",
       "\n",
       "    .dataframe tbody tr th {\n",
       "        vertical-align: top;\n",
       "    }\n",
       "\n",
       "    .dataframe thead th {\n",
       "        text-align: right;\n",
       "    }\n",
       "</style>\n",
       "<table border=\"1\" class=\"dataframe\">\n",
       "  <thead>\n",
       "    <tr style=\"text-align: right;\">\n",
       "      <th></th>\n",
       "      <th>delegation</th>\n",
       "      <th>superficie</th>\n",
       "      <th>chambres</th>\n",
       "      <th>salle_de_bains</th>\n",
       "      <th>etat</th>\n",
       "      <th>etage</th>\n",
       "      <th>gouvernorat_ariana</th>\n",
       "      <th>gouvernorat_ben-arous</th>\n",
       "      <th>gouvernorat_la-manouba</th>\n",
       "      <th>gouvernorat_tunis</th>\n",
       "      <th>prix</th>\n",
       "    </tr>\n",
       "  </thead>\n",
       "  <tbody>\n",
       "    <tr>\n",
       "      <th>0</th>\n",
       "      <td>26.0</td>\n",
       "      <td>88</td>\n",
       "      <td>2</td>\n",
       "      <td>1</td>\n",
       "      <td>9</td>\n",
       "      <td>1</td>\n",
       "      <td>0.0</td>\n",
       "      <td>0.0</td>\n",
       "      <td>0.0</td>\n",
       "      <td>1.0</td>\n",
       "      <td>340000.0</td>\n",
       "    </tr>\n",
       "    <tr>\n",
       "      <th>1</th>\n",
       "      <td>23.0</td>\n",
       "      <td>100</td>\n",
       "      <td>2</td>\n",
       "      <td>1</td>\n",
       "      <td>9</td>\n",
       "      <td>1</td>\n",
       "      <td>0.0</td>\n",
       "      <td>0.0</td>\n",
       "      <td>0.0</td>\n",
       "      <td>1.0</td>\n",
       "      <td>135000.0</td>\n",
       "    </tr>\n",
       "    <tr>\n",
       "      <th>2</th>\n",
       "      <td>36.0</td>\n",
       "      <td>152</td>\n",
       "      <td>2</td>\n",
       "      <td>1</td>\n",
       "      <td>9</td>\n",
       "      <td>1</td>\n",
       "      <td>0.0</td>\n",
       "      <td>0.0</td>\n",
       "      <td>0.0</td>\n",
       "      <td>1.0</td>\n",
       "      <td>680000.0</td>\n",
       "    </tr>\n",
       "    <tr>\n",
       "      <th>3</th>\n",
       "      <td>36.0</td>\n",
       "      <td>120</td>\n",
       "      <td>1</td>\n",
       "      <td>1</td>\n",
       "      <td>9</td>\n",
       "      <td>1</td>\n",
       "      <td>0.0</td>\n",
       "      <td>0.0</td>\n",
       "      <td>0.0</td>\n",
       "      <td>1.0</td>\n",
       "      <td>470000.0</td>\n",
       "    </tr>\n",
       "    <tr>\n",
       "      <th>4</th>\n",
       "      <td>31.0</td>\n",
       "      <td>145</td>\n",
       "      <td>3</td>\n",
       "      <td>1</td>\n",
       "      <td>11</td>\n",
       "      <td>4</td>\n",
       "      <td>0.0</td>\n",
       "      <td>0.0</td>\n",
       "      <td>0.0</td>\n",
       "      <td>1.0</td>\n",
       "      <td>260000.0</td>\n",
       "    </tr>\n",
       "  </tbody>\n",
       "</table>\n",
       "</div>"
      ],
      "text/plain": [
       "   delegation  superficie  chambres  salle_de_bains  etat  etage  \\\n",
       "0        26.0          88         2               1     9      1   \n",
       "1        23.0         100         2               1     9      1   \n",
       "2        36.0         152         2               1     9      1   \n",
       "3        36.0         120         1               1     9      1   \n",
       "4        31.0         145         3               1    11      4   \n",
       "\n",
       "   gouvernorat_ariana  gouvernorat_ben-arous  gouvernorat_la-manouba  \\\n",
       "0                 0.0                    0.0                     0.0   \n",
       "1                 0.0                    0.0                     0.0   \n",
       "2                 0.0                    0.0                     0.0   \n",
       "3                 0.0                    0.0                     0.0   \n",
       "4                 0.0                    0.0                     0.0   \n",
       "\n",
       "   gouvernorat_tunis      prix  \n",
       "0                1.0  340000.0  \n",
       "1                1.0  135000.0  \n",
       "2                1.0  680000.0  \n",
       "3                1.0  470000.0  \n",
       "4                1.0  260000.0  "
      ]
     },
     "execution_count": 20,
     "metadata": {},
     "output_type": "execute_result"
    }
   ],
   "source": [
    "df= pd.read_csv('../csv/after_cleaning/mubawab_preprocessed.csv')\n",
    "df.head()"
   ]
  },
  {
   "cell_type": "markdown",
   "metadata": {},
   "source": [
    "**train test split**"
   ]
  },
  {
   "cell_type": "markdown",
   "metadata": {},
   "source": [
    "NOTE: Tree-based models are not affected by the scale of features because they split based on feature thresholds"
   ]
  },
  {
   "cell_type": "code",
   "execution_count": 21,
   "metadata": {},
   "outputs": [],
   "source": [
    "X= df.drop(columns='prix')\n",
    "\n",
    "y= df['prix']\n",
    "\n",
    "X_train, X_test, y_train, y_test= train_test_split(X, y, test_size=0.2, random_state=42)"
   ]
  },
  {
   "cell_type": "markdown",
   "metadata": {},
   "source": [
    "# Random Forest"
   ]
  },
  {
   "cell_type": "markdown",
   "metadata": {},
   "source": [
    "**parameters tuning**"
   ]
  },
  {
   "cell_type": "code",
   "execution_count": 22,
   "metadata": {},
   "outputs": [
    {
     "name": "stdout",
     "output_type": "stream",
     "text": [
      "Fitting 5 folds for each of 720 candidates, totalling 3600 fits\n",
      "Best parameters: {'max_depth': None, 'max_features': 'log2', 'min_samples_leaf': 1, 'min_samples_split': 10, 'n_estimators': 50}\n",
      "Best CV score: 0.5932387447801133\n"
     ]
    },
    {
     "name": "stderr",
     "output_type": "stream",
     "text": [
      "/home/lost-elf/Apartments-Sales/venv/lib/python3.10/site-packages/sklearn/model_selection/_validation.py:528: FitFailedWarning: \n",
      "900 fits failed out of a total of 3600.\n",
      "The score on these train-test partitions for these parameters will be set to nan.\n",
      "If these failures are not expected, you can try to debug them by setting error_score='raise'.\n",
      "\n",
      "Below are more details about the failures:\n",
      "--------------------------------------------------------------------------------\n",
      "476 fits failed with the following error:\n",
      "Traceback (most recent call last):\n",
      "  File \"/home/lost-elf/Apartments-Sales/venv/lib/python3.10/site-packages/sklearn/model_selection/_validation.py\", line 866, in _fit_and_score\n",
      "    estimator.fit(X_train, y_train, **fit_params)\n",
      "  File \"/home/lost-elf/Apartments-Sales/venv/lib/python3.10/site-packages/sklearn/base.py\", line 1382, in wrapper\n",
      "    estimator._validate_params()\n",
      "  File \"/home/lost-elf/Apartments-Sales/venv/lib/python3.10/site-packages/sklearn/base.py\", line 436, in _validate_params\n",
      "    validate_parameter_constraints(\n",
      "  File \"/home/lost-elf/Apartments-Sales/venv/lib/python3.10/site-packages/sklearn/utils/_param_validation.py\", line 98, in validate_parameter_constraints\n",
      "    raise InvalidParameterError(\n",
      "sklearn.utils._param_validation.InvalidParameterError: The 'max_features' parameter of RandomForestRegressor must be an int in the range [1, inf), a float in the range (0.0, 1.0], a str among {'log2', 'sqrt'} or None. Got 'auto' instead.\n",
      "\n",
      "--------------------------------------------------------------------------------\n",
      "424 fits failed with the following error:\n",
      "Traceback (most recent call last):\n",
      "  File \"/home/lost-elf/Apartments-Sales/venv/lib/python3.10/site-packages/sklearn/model_selection/_validation.py\", line 866, in _fit_and_score\n",
      "    estimator.fit(X_train, y_train, **fit_params)\n",
      "  File \"/home/lost-elf/Apartments-Sales/venv/lib/python3.10/site-packages/sklearn/base.py\", line 1382, in wrapper\n",
      "    estimator._validate_params()\n",
      "  File \"/home/lost-elf/Apartments-Sales/venv/lib/python3.10/site-packages/sklearn/base.py\", line 436, in _validate_params\n",
      "    validate_parameter_constraints(\n",
      "  File \"/home/lost-elf/Apartments-Sales/venv/lib/python3.10/site-packages/sklearn/utils/_param_validation.py\", line 98, in validate_parameter_constraints\n",
      "    raise InvalidParameterError(\n",
      "sklearn.utils._param_validation.InvalidParameterError: The 'max_features' parameter of RandomForestRegressor must be an int in the range [1, inf), a float in the range (0.0, 1.0], a str among {'sqrt', 'log2'} or None. Got 'auto' instead.\n",
      "\n",
      "  warnings.warn(some_fits_failed_message, FitFailedWarning)\n",
      "/home/lost-elf/Apartments-Sales/venv/lib/python3.10/site-packages/sklearn/model_selection/_search.py:1107: UserWarning: One or more of the test scores are non-finite: [       nan        nan        nan        nan        nan        nan\n",
      "        nan        nan        nan        nan        nan        nan\n",
      "        nan        nan        nan        nan        nan        nan\n",
      "        nan        nan        nan        nan        nan        nan\n",
      "        nan        nan        nan        nan        nan        nan\n",
      "        nan        nan        nan        nan        nan        nan\n",
      " 0.51488838 0.54674019 0.54558664 0.55199856 0.54485196 0.55228243\n",
      " 0.55277694 0.55231215 0.52506742 0.54778891 0.55144714 0.55131807\n",
      " 0.5436826  0.55048158 0.55524082 0.55202612 0.53514728 0.55134102\n",
      " 0.55226325 0.55372823 0.54410583 0.55655833 0.55307628 0.55602523\n",
      " 0.54597589 0.5536186  0.5582222  0.55323787 0.5426989  0.55148816\n",
      " 0.55105123 0.55409813 0.54242037 0.55195695 0.55354247 0.55267621\n",
      " 0.5125186  0.5421613  0.55055158 0.55223065 0.53598574 0.55640611\n",
      " 0.54648531 0.5497536  0.53191181 0.54232961 0.55353665 0.55669689\n",
      " 0.54636983 0.54858377 0.55243711 0.55531453 0.53765449 0.55305724\n",
      " 0.5497731  0.55400457 0.53056068 0.5535988  0.55287608 0.55274263\n",
      " 0.54284853 0.55491652 0.55523914 0.55557898 0.53749587 0.55070309\n",
      " 0.55030651 0.55373304 0.54184921 0.55306257 0.54862693 0.55371238\n",
      " 0.47845272 0.49186006 0.49989767 0.5038181  0.49054648 0.52670518\n",
      " 0.52513463 0.53019345 0.52918785 0.54038103 0.54505086 0.5455841\n",
      " 0.51463499 0.52954934 0.5358439  0.53423077 0.52261793 0.52822471\n",
      " 0.54193117 0.53633423 0.52503247 0.54882126 0.54836127 0.55054894\n",
      " 0.54898099 0.55133566 0.54735987 0.54888342 0.53860779 0.54810034\n",
      " 0.54673693 0.54777166 0.53740712 0.55665813 0.55119315 0.54845844\n",
      "        nan        nan        nan        nan        nan        nan\n",
      "        nan        nan        nan        nan        nan        nan\n",
      "        nan        nan        nan        nan        nan        nan\n",
      "        nan        nan        nan        nan        nan        nan\n",
      "        nan        nan        nan        nan        nan        nan\n",
      "        nan        nan        nan        nan        nan        nan\n",
      " 0.53025365 0.55316121 0.54284023 0.56293549 0.54821581 0.58046832\n",
      " 0.5834761  0.57816849 0.57260475 0.5898181  0.58311767 0.58108094\n",
      " 0.56913577 0.57892795 0.57708886 0.58188201 0.56743503 0.58415043\n",
      " 0.58362497 0.58019061 0.54230013 0.57940019 0.58417126 0.58429065\n",
      " 0.56654369 0.58212405 0.58718131 0.58484626 0.56764788 0.58169032\n",
      " 0.58212855 0.58156576 0.56710599 0.58149159 0.57960413 0.58476781\n",
      " 0.52678386 0.55521989 0.55765253 0.56022651 0.5410075  0.57923222\n",
      " 0.57383377 0.576159   0.56605814 0.57946625 0.58295094 0.58609975\n",
      " 0.56693998 0.56984552 0.57318231 0.58162049 0.55264463 0.58500994\n",
      " 0.58162588 0.5803445  0.56594321 0.5827485  0.58559949 0.5857358\n",
      " 0.5674698  0.5801509  0.58176032 0.58383725 0.56722023 0.58115816\n",
      " 0.58708393 0.58399181 0.57400751 0.57972906 0.58305483 0.58273898\n",
      " 0.4393992  0.44663278 0.48902895 0.46032265 0.50789116 0.5565543\n",
      " 0.53622679 0.54053917 0.55348383 0.55749489 0.55513359 0.56001656\n",
      " 0.52215973 0.55256094 0.54717682 0.55936732 0.50949291 0.55656972\n",
      " 0.55693567 0.55666459 0.54870787 0.56186116 0.57182368 0.56291564\n",
      " 0.55345393 0.56925136 0.57169672 0.5700585  0.54798156 0.56790811\n",
      " 0.56935538 0.57131937 0.55018188 0.57185685 0.56968981 0.56972154\n",
      "        nan        nan        nan        nan        nan        nan\n",
      "        nan        nan        nan        nan        nan        nan\n",
      "        nan        nan        nan        nan        nan        nan\n",
      "        nan        nan        nan        nan        nan        nan\n",
      "        nan        nan        nan        nan        nan        nan\n",
      "        nan        nan        nan        nan        nan        nan\n",
      " 0.52995365 0.55880304 0.54779985 0.55662271 0.51903163 0.57361931\n",
      " 0.57711071 0.57895291 0.55114409 0.58469611 0.59032046 0.58837693\n",
      " 0.55372984 0.58044742 0.58394529 0.58084591 0.54686692 0.58139355\n",
      " 0.58606818 0.58178362 0.56889703 0.58446413 0.59058551 0.58140452\n",
      " 0.56961336 0.58426364 0.58343743 0.58607867 0.56548296 0.5800074\n",
      " 0.58368152 0.58451785 0.55236217 0.58417326 0.58389544 0.58570686\n",
      " 0.49105982 0.55293445 0.55002314 0.55360913 0.56160286 0.57417691\n",
      " 0.57761379 0.58743783 0.55663738 0.58804465 0.58779667 0.58960795\n",
      " 0.55579148 0.57521384 0.57869532 0.58538598 0.5587702  0.58429593\n",
      " 0.58376826 0.58446534 0.57338885 0.58497608 0.5852883  0.58752503\n",
      " 0.56444711 0.58301576 0.58146738 0.58309372 0.57361446 0.5817333\n",
      " 0.58689142 0.58474453 0.57395893 0.58521256 0.58245376 0.58354439\n",
      " 0.39912556 0.45626125 0.45044466 0.46028626 0.52834484 0.54211876\n",
      " 0.53942051 0.55011379 0.54880868 0.5609567  0.56288865 0.56353088\n",
      " 0.51464044 0.54262399 0.54427217 0.55647331 0.51634281 0.55263182\n",
      " 0.56418507 0.55711698 0.5487222  0.55745223 0.5655098  0.56518737\n",
      " 0.56000444 0.56570124 0.56858122 0.57030377 0.5614832  0.57254678\n",
      " 0.56969643 0.57318146 0.54981132 0.57125352 0.57086236 0.57157264\n",
      "        nan        nan        nan        nan        nan        nan\n",
      "        nan        nan        nan        nan        nan        nan\n",
      "        nan        nan        nan        nan        nan        nan\n",
      "        nan        nan        nan        nan        nan        nan\n",
      "        nan        nan        nan        nan        nan        nan\n",
      "        nan        nan        nan        nan        nan        nan\n",
      " 0.47477825 0.54599673 0.55349434 0.5485388  0.55667626 0.56844919\n",
      " 0.5862123  0.58202789 0.56616271 0.58417454 0.58787038 0.58613877\n",
      " 0.56675632 0.58375029 0.58420293 0.58856003 0.57600308 0.58088641\n",
      " 0.58412557 0.58410836 0.55516135 0.58527434 0.58578309 0.58489387\n",
      " 0.56159253 0.5798801  0.58426499 0.58502633 0.55693224 0.5801527\n",
      " 0.58233998 0.58319814 0.5561055  0.58192642 0.58462078 0.58424981\n",
      " 0.47435082 0.53113567 0.55706545 0.55513749 0.56197386 0.57611053\n",
      " 0.57912332 0.58099724 0.55854314 0.58426591 0.58996389 0.58858204\n",
      " 0.55727849 0.57705139 0.58666263 0.585145   0.54436274 0.57670933\n",
      " 0.58766606 0.58498746 0.58066272 0.57343855 0.58906103 0.5886788\n",
      " 0.57859208 0.58064809 0.58739992 0.58538042 0.57875737 0.58123463\n",
      " 0.58455744 0.58515896 0.57309582 0.58283262 0.58397259 0.5834306\n",
      " 0.43085575 0.43887736 0.4574862  0.47916074 0.49098116 0.54171652\n",
      " 0.53666504 0.54072393 0.53420365 0.55485719 0.54901048 0.56214864\n",
      " 0.53184738 0.55491796 0.54123808 0.55110081 0.52356059 0.55037668\n",
      " 0.55752864 0.5579231  0.54412022 0.56625623 0.56452917 0.56325464\n",
      " 0.55847534 0.5644741  0.57080162 0.5715181  0.54350148 0.57250574\n",
      " 0.57081338 0.57202635 0.55569253 0.57307663 0.56869604 0.5734986\n",
      "        nan        nan        nan        nan        nan        nan\n",
      "        nan        nan        nan        nan        nan        nan\n",
      "        nan        nan        nan        nan        nan        nan\n",
      "        nan        nan        nan        nan        nan        nan\n",
      "        nan        nan        nan        nan        nan        nan\n",
      "        nan        nan        nan        nan        nan        nan\n",
      " 0.5125904  0.54684646 0.55504831 0.55639962 0.55790972 0.57210399\n",
      " 0.57558359 0.5832148  0.56983235 0.58394503 0.58753029 0.59111521\n",
      " 0.56957964 0.57654786 0.5841105  0.58339223 0.55928273 0.58407226\n",
      " 0.58736748 0.58335428 0.56915106 0.58847589 0.58537776 0.58485121\n",
      " 0.57463906 0.57553876 0.57999949 0.58648578 0.57207186 0.58170384\n",
      " 0.58391497 0.58953611 0.56800081 0.58248407 0.58407996 0.58125029\n",
      " 0.48495864 0.5539172  0.55915013 0.55726345 0.5429691  0.57041797\n",
      " 0.57447513 0.58455647 0.57668422 0.59323874 0.58050194 0.58881938\n",
      " 0.56791723 0.58727234 0.58063333 0.58726241 0.55914564 0.5865078\n",
      " 0.58158253 0.58748343 0.56111147 0.58589538 0.58673946 0.58733354\n",
      " 0.55892528 0.57816965 0.58405735 0.58427133 0.56787037 0.5851508\n",
      " 0.58678948 0.5837116  0.56673431 0.57999215 0.579208   0.58225052\n",
      " 0.41742428 0.48261389 0.44677358 0.46793002 0.50862471 0.54520865\n",
      " 0.52724714 0.53655726 0.54779489 0.55880257 0.56162275 0.56500842\n",
      " 0.5391236  0.55024866 0.54899297 0.55340163 0.5400714  0.55426497\n",
      " 0.55536696 0.55721883 0.53157489 0.56782255 0.56641362 0.56638015\n",
      " 0.55397163 0.56571064 0.56877759 0.56993492 0.55900307 0.56806924\n",
      " 0.57017057 0.57060594 0.55593006 0.56943702 0.56875884 0.56805116]\n",
      "  warnings.warn(\n"
     ]
    }
   ],
   "source": [
    "\n",
    "# Hyperparameters to tune\n",
    "param_grid = {\n",
    "    'max_depth': [5, 10, 15, 20, None],\n",
    "    'min_samples_split': [2, 5, 10],\n",
    "    'min_samples_leaf': [1, 2, 4],\n",
    "    'max_features': ['auto', 'sqrt', 'log2', None],\n",
    "    'n_estimators': [10, 50, 100, 200]\n",
    "}\n",
    "\n",
    "# Grid Search\n",
    "grid_search = GridSearchCV(RandomForestRegressor(), param_grid, cv=5, n_jobs=-1, verbose=1)\n",
    "grid_search.fit(X_train, y_train)\n",
    "\n",
    "# Best parameters and best score\n",
    "print(\"Best parameters:\", grid_search.best_params_)\n",
    "print(\"Best CV score:\", grid_search.best_score_)\n"
   ]
  },
  {
   "cell_type": "code",
   "execution_count": 30,
   "metadata": {},
   "outputs": [],
   "source": [
    "model= RandomForestRegressor(**grid_search.best_params_, oob_score= True)\n",
    "model.fit(X_train, y_train)\n",
    "\n",
    "y_hat= model.predict(X_test)"
   ]
  },
  {
   "cell_type": "code",
   "execution_count": 36,
   "metadata": {},
   "outputs": [
    {
     "name": "stdout",
     "output_type": "stream",
     "text": [
      "Mean Absolute Error (MAE): 112839.91278205618\n",
      "Root Mean Squared Error (RMSE): 189309.4625653418\n",
      "Mean Squared Error (MSE): 35838072616.77854\n",
      "Mean Absolute Percentage Error (MAPE): 0.28484250046683895\n",
      "R²: 0.6677755954821005\n"
     ]
    }
   ],
   "source": [
    "mae = mean_absolute_error(y_test, y_hat)\n",
    "mse = mean_squared_error(y_test, y_hat)\n",
    "rmse = np.sqrt(mean_squared_error(y_test, y_hat))\n",
    "mape=mean_absolute_percentage_error(y_test, y_hat)\n",
    "r2 = r2_score(y_test, y_hat)\n",
    "\n",
    "\n",
    "print(f\"Mean Absolute Error (MAE): {mae}\")\n",
    "print(f\"Root Mean Squared Error (RMSE): {rmse}\")\n",
    "print(f\"Mean Squared Error (MSE): {mse}\")\n",
    "print(f\"Mean Absolute Percentage Error (MAPE): {mape}\")\n",
    "print(f\"R²: {r2}\")"
   ]
  },
  {
   "cell_type": "markdown",
   "metadata": {},
   "source": [
    "**R² is around 66% , this means that model explains about 66% of the variance in apartment prices.\n",
    "The higher the R², the better the model’s fit to the data.**"
   ]
  },
  {
   "cell_type": "markdown",
   "metadata": {},
   "source": [
    "**cross validation**"
   ]
  },
  {
   "cell_type": "code",
   "execution_count": 37,
   "metadata": {},
   "outputs": [
    {
     "data": {
      "image/png": "[encoded data removed]",
      "text/plain": [
       "<Figure size 640x480 with 1 Axes>"
      ]
     },
     "metadata": {},
     "output_type": "display_data"
    },
    {
     "name": "stdout",
     "output_type": "stream",
     "text": [
      "Average CV Score: 0.5844397440763089\n"
     ]
    }
   ],
   "source": [
    "cv_scores = cross_val_score(model, X_train, y_train, cv=5)\n",
    "\n",
    "# Plotting the cross-validation scores\n",
    "plt.boxplot(cv_scores)\n",
    "plt.title('Cross-Validation Scores for Random Forest')\n",
    "plt.ylabel('Score')\n",
    "plt.show()\n",
    "\n",
    "print(f'Average CV Score: {cv_scores.mean()}')\n"
   ]
  },
  {
   "cell_type": "markdown",
   "metadata": {},
   "source": [
    "**around 60% accuracy**"
   ]
  },
  {
   "cell_type": "markdown",
   "metadata": {},
   "source": [
    "**OOB: out of bag error**"
   ]
  },
  {
   "cell_type": "code",
   "execution_count": 34,
   "metadata": {},
   "outputs": [
    {
     "name": "stdout",
     "output_type": "stream",
     "text": [
      "OOB Score: 0.558424324854167\n"
     ]
    }
   ],
   "source": [
    "# OOB error score\n",
    "print(f\"OOB Score: {model.oob_score_}\")"
   ]
  },
  {
   "cell_type": "markdown",
   "metadata": {},
   "source": [
    "**learning curve**"
   ]
  },
  {
   "cell_type": "code",
   "execution_count": 26,
   "metadata": {},
   "outputs": [
    {
     "data": {
      "image/png": "[encoded data removed]",
      "text/plain": [
       "<Figure size 640x480 with 1 Axes>"
      ]
     },
     "metadata": {},
     "output_type": "display_data"
    }
   ],
   "source": [
    "\n",
    "train_sizes, train_scores, test_scores = learning_curve(model, X_train, y_train, cv=5)\n",
    "\n",
    "plt.plot(train_sizes, np.mean(train_scores, axis=1), label='Train score')\n",
    "plt.plot(train_sizes, np.mean(test_scores, axis=1), label='Test score')\n",
    "plt.xlabel('Training Size')\n",
    "plt.ylabel('Score')\n",
    "plt.title('Learning Curves')\n",
    "plt.legend()\n",
    "plt.show()\n"
   ]
  },
  {
   "cell_type": "markdown",
   "metadata": {},
   "source": [
    "The test score starts low but increases as the training size increases, which suggests that adding more data improves generalization.\n",
    " \n",
    "There is still a noticeable gap between train and test scores, indicating that the model may be slightly overfitting.\n"
   ]
  }
 ],
 "metadata": {
  "kernelspec": {
   "display_name": "venv",
   "language": "python",
   "name": "python3"
  },
  "language_info": {
   "codemirror_mode": {
    "name": "ipython",
    "version": 3
   },
   "file_extension": ".py",
   "mimetype": "text/x-python",
   "name": "python",
   "nbconvert_exporter": "python",
   "pygments_lexer": "ipython3",
   "version": "3.10.15"
  }
 },
 "nbformat": 4,
 "nbformat_minor": 2
}
