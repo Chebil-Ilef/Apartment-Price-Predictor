{
 "cells": [
  {
   "cell_type": "code",
   "execution_count": 1,
   "metadata": {},
   "outputs": [],
   "source": [
    "import pandas as pd\n",
    "from sklearn.model_selection import train_test_split, learning_curve, cross_val_score, GridSearchCV\n",
    "from sklearn.metrics import mean_squared_error, r2_score, mean_absolute_error, mean_absolute_percentage_error\n",
    "import numpy as np\n",
    "import matplotlib.pyplot as plt\n",
    "from sklearn.ensemble import RandomForestRegressor"
   ]
  },
  {
   "cell_type": "code",
   "execution_count": 2,
   "metadata": {},
   "outputs": [
    {
     "data": {
      "text/html": [
       "<div>\n",
       "<style scoped>\n",
       "    .dataframe tbody tr th:only-of-type {\n",
       "        vertical-align: middle;\n",
       "    }\n",
       "\n",
       "    .dataframe tbody tr th {\n",
       "        vertical-align: top;\n",
       "    }\n",
       "\n",
       "    .dataframe thead th {\n",
       "        text-align: right;\n",
       "    }\n",
       "</style>\n",
       "<table border=\"1\" class=\"dataframe\">\n",
       "  <thead>\n",
       "    <tr style=\"text-align: right;\">\n",
       "      <th></th>\n",
       "      <th>delegation</th>\n",
       "      <th>superficie</th>\n",
       "      <th>chambres</th>\n",
       "      <th>salle_de_bains</th>\n",
       "      <th>etat</th>\n",
       "      <th>etage</th>\n",
       "      <th>gouvernorat_ariana</th>\n",
       "      <th>gouvernorat_ben-arous</th>\n",
       "      <th>gouvernorat_la-manouba</th>\n",
       "      <th>gouvernorat_tunis</th>\n",
       "      <th>prix</th>\n",
       "    </tr>\n",
       "  </thead>\n",
       "  <tbody>\n",
       "    <tr>\n",
       "      <th>0</th>\n",
       "      <td>21.0</td>\n",
       "      <td>62</td>\n",
       "      <td>1</td>\n",
       "      <td>1</td>\n",
       "      <td>10</td>\n",
       "      <td>1</td>\n",
       "      <td>0.0</td>\n",
       "      <td>0.0</td>\n",
       "      <td>0.0</td>\n",
       "      <td>1.0</td>\n",
       "      <td>259532.0</td>\n",
       "    </tr>\n",
       "    <tr>\n",
       "      <th>1</th>\n",
       "      <td>32.0</td>\n",
       "      <td>300</td>\n",
       "      <td>2</td>\n",
       "      <td>1</td>\n",
       "      <td>10</td>\n",
       "      <td>5</td>\n",
       "      <td>0.0</td>\n",
       "      <td>0.0</td>\n",
       "      <td>0.0</td>\n",
       "      <td>1.0</td>\n",
       "      <td>1208100.0</td>\n",
       "    </tr>\n",
       "    <tr>\n",
       "      <th>2</th>\n",
       "      <td>26.0</td>\n",
       "      <td>142</td>\n",
       "      <td>1</td>\n",
       "      <td>1</td>\n",
       "      <td>11</td>\n",
       "      <td>1</td>\n",
       "      <td>1.0</td>\n",
       "      <td>0.0</td>\n",
       "      <td>0.0</td>\n",
       "      <td>0.0</td>\n",
       "      <td>707302.0</td>\n",
       "    </tr>\n",
       "    <tr>\n",
       "      <th>3</th>\n",
       "      <td>29.0</td>\n",
       "      <td>281</td>\n",
       "      <td>3</td>\n",
       "      <td>2</td>\n",
       "      <td>11</td>\n",
       "      <td>8</td>\n",
       "      <td>0.0</td>\n",
       "      <td>0.0</td>\n",
       "      <td>0.0</td>\n",
       "      <td>1.0</td>\n",
       "      <td>1255227.0</td>\n",
       "    </tr>\n",
       "    <tr>\n",
       "      <th>4</th>\n",
       "      <td>26.0</td>\n",
       "      <td>153</td>\n",
       "      <td>1</td>\n",
       "      <td>1</td>\n",
       "      <td>10</td>\n",
       "      <td>1</td>\n",
       "      <td>1.0</td>\n",
       "      <td>0.0</td>\n",
       "      <td>0.0</td>\n",
       "      <td>0.0</td>\n",
       "      <td>687429.0</td>\n",
       "    </tr>\n",
       "  </tbody>\n",
       "</table>\n",
       "</div>"
      ],
      "text/plain": [
       "   delegation  superficie  chambres  salle_de_bains  etat  etage  \\\n",
       "0        21.0          62         1               1    10      1   \n",
       "1        32.0         300         2               1    10      5   \n",
       "2        26.0         142         1               1    11      1   \n",
       "3        29.0         281         3               2    11      8   \n",
       "4        26.0         153         1               1    10      1   \n",
       "\n",
       "   gouvernorat_ariana  gouvernorat_ben-arous  gouvernorat_la-manouba  \\\n",
       "0                 0.0                    0.0                     0.0   \n",
       "1                 0.0                    0.0                     0.0   \n",
       "2                 1.0                    0.0                     0.0   \n",
       "3                 0.0                    0.0                     0.0   \n",
       "4                 1.0                    0.0                     0.0   \n",
       "\n",
       "   gouvernorat_tunis       prix  \n",
       "0                1.0   259532.0  \n",
       "1                1.0  1208100.0  \n",
       "2                0.0   707302.0  \n",
       "3                1.0  1255227.0  \n",
       "4                0.0   687429.0  "
      ]
     },
     "execution_count": 2,
     "metadata": {},
     "output_type": "execute_result"
    }
   ],
   "source": [
    "df= pd.read_csv('../csv/after_cleaning/final.csv')\n",
    "df.head()"
   ]
  },
  {
   "cell_type": "markdown",
   "metadata": {},
   "source": [
    "**train test split**"
   ]
  },
  {
   "cell_type": "markdown",
   "metadata": {},
   "source": [
    "NOTE: Tree-based models are not affected by the scale of features because they split based on feature thresholds"
   ]
  },
  {
   "cell_type": "code",
   "execution_count": 3,
   "metadata": {},
   "outputs": [],
   "source": [
    "X= df.drop(columns='prix')\n",
    "\n",
    "y= df['prix']\n",
    "\n",
    "X_train, X_test, y_train, y_test= train_test_split(X, y, test_size=0.2, random_state=42)"
   ]
  },
  {
   "cell_type": "markdown",
   "metadata": {},
   "source": [
    "# Random Forest"
   ]
  },
  {
   "cell_type": "markdown",
   "metadata": {},
   "source": [
    "**parameters tuning**"
   ]
  },
  {
   "cell_type": "code",
   "execution_count": 13,
   "metadata": {},
   "outputs": [
    {
     "name": "stdout",
     "output_type": "stream",
     "text": [
      "Fitting 10 folds for each of 720 candidates, totalling 7200 fits\n"
     ]
    },
    {
     "name": "stderr",
     "output_type": "stream",
     "text": [
      "/home/lost-elf/Apartments-Sales/venv/lib/python3.10/site-packages/joblib/externals/loky/process_executor.py:752: UserWarning: A worker stopped while some jobs were given to the executor. This can be caused by a too short worker timeout or by a memory leak.\n",
      "  warnings.warn(\n",
      "/home/lost-elf/Apartments-Sales/venv/lib/python3.10/site-packages/sklearn/model_selection/_validation.py:540: FitFailedWarning: \n",
      "1800 fits failed out of a total of 7200.\n",
      "The score on these train-test partitions for these parameters will be set to nan.\n",
      "If these failures are not expected, you can try to debug them by setting error_score='raise'.\n",
      "\n",
      "Below are more details about the failures:\n",
      "--------------------------------------------------------------------------------\n",
      "1156 fits failed with the following error:\n",
      "Traceback (most recent call last):\n",
      "  File \"/home/lost-elf/Apartments-Sales/venv/lib/python3.10/site-packages/sklearn/model_selection/_validation.py\", line 888, in _fit_and_score\n",
      "    estimator.fit(X_train, y_train, **fit_params)\n",
      "  File \"/home/lost-elf/Apartments-Sales/venv/lib/python3.10/site-packages/sklearn/base.py\", line 1466, in wrapper\n",
      "    estimator._validate_params()\n",
      "  File \"/home/lost-elf/Apartments-Sales/venv/lib/python3.10/site-packages/sklearn/base.py\", line 666, in _validate_params\n",
      "    validate_parameter_constraints(\n",
      "  File \"/home/lost-elf/Apartments-Sales/venv/lib/python3.10/site-packages/sklearn/utils/_param_validation.py\", line 95, in validate_parameter_constraints\n",
      "    raise InvalidParameterError(\n",
      "sklearn.utils._param_validation.InvalidParameterError: The 'max_features' parameter of RandomForestRegressor must be an int in the range [1, inf), a float in the range (0.0, 1.0], a str among {'log2', 'sqrt'} or None. Got 'auto' instead.\n",
      "\n",
      "--------------------------------------------------------------------------------\n",
      "644 fits failed with the following error:\n",
      "Traceback (most recent call last):\n",
      "  File \"/home/lost-elf/Apartments-Sales/venv/lib/python3.10/site-packages/sklearn/model_selection/_validation.py\", line 888, in _fit_and_score\n",
      "    estimator.fit(X_train, y_train, **fit_params)\n",
      "  File \"/home/lost-elf/Apartments-Sales/venv/lib/python3.10/site-packages/sklearn/base.py\", line 1466, in wrapper\n",
      "    estimator._validate_params()\n",
      "  File \"/home/lost-elf/Apartments-Sales/venv/lib/python3.10/site-packages/sklearn/base.py\", line 666, in _validate_params\n",
      "    validate_parameter_constraints(\n",
      "  File \"/home/lost-elf/Apartments-Sales/venv/lib/python3.10/site-packages/sklearn/utils/_param_validation.py\", line 95, in validate_parameter_constraints\n",
      "    raise InvalidParameterError(\n",
      "sklearn.utils._param_validation.InvalidParameterError: The 'max_features' parameter of RandomForestRegressor must be an int in the range [1, inf), a float in the range (0.0, 1.0], a str among {'sqrt', 'log2'} or None. Got 'auto' instead.\n",
      "\n",
      "  warnings.warn(some_fits_failed_message, FitFailedWarning)\n",
      "/home/lost-elf/Apartments-Sales/venv/lib/python3.10/site-packages/sklearn/model_selection/_search.py:1103: UserWarning: One or more of the test scores are non-finite: [       nan        nan        nan        nan        nan        nan\n",
      "        nan        nan        nan        nan        nan        nan\n",
      "        nan        nan        nan        nan        nan        nan\n",
      "        nan        nan        nan        nan        nan        nan\n",
      "        nan        nan        nan        nan        nan        nan\n",
      "        nan        nan        nan        nan        nan        nan\n",
      " 0.64602131 0.65900619 0.65997693 0.66430666 0.65974114 0.66142988\n",
      " 0.66191502 0.66439858 0.65128451 0.66806886 0.66114469 0.6640615\n",
      " 0.65158075 0.66142845 0.663427   0.66405913 0.63956589 0.66516877\n",
      " 0.66110278 0.66452295 0.64970856 0.66499274 0.66260215 0.65934158\n",
      " 0.64329344 0.66148592 0.6647831  0.66482302 0.64698152 0.65937131\n",
      " 0.66090733 0.66376182 0.64994236 0.66144169 0.66056051 0.66188006\n",
      " 0.64304989 0.66236895 0.66177644 0.66349418 0.64903803 0.66261423\n",
      " 0.66355531 0.66194806 0.6528246  0.66091466 0.66275363 0.6618715\n",
      " 0.65040484 0.66390846 0.66142313 0.66370607 0.6470378  0.66006644\n",
      " 0.66133214 0.66126302 0.65504751 0.66426609 0.66331653 0.66287291\n",
      " 0.64642107 0.66178246 0.6634579  0.66242851 0.65288701 0.66503793\n",
      " 0.66159653 0.66068837 0.6521388  0.66014742 0.66255868 0.66142696\n",
      " 0.68097077 0.6917569  0.69335254 0.6951129  0.6871748  0.69534597\n",
      " 0.69522982 0.69523986 0.68877535 0.69480084 0.69575379 0.69641052\n",
      " 0.68492884 0.69704395 0.69479391 0.69582698 0.68985279 0.6940187\n",
      " 0.6952617  0.69588525 0.68973199 0.69670579 0.6966922  0.69748039\n",
      " 0.69145454 0.69466989 0.69641393 0.6976167  0.69094422 0.69755009\n",
      " 0.696544   0.69631927 0.69029199 0.69926844 0.69749065 0.69678354\n",
      "        nan        nan        nan        nan        nan        nan\n",
      "        nan        nan        nan        nan        nan        nan\n",
      "        nan        nan        nan        nan        nan        nan\n",
      "        nan        nan        nan        nan        nan        nan\n",
      "        nan        nan        nan        nan        nan        nan\n",
      "        nan        nan        nan        nan        nan        nan\n",
      " 0.69835856 0.70590309 0.7115927  0.71186544 0.68643194 0.70910146\n",
      " 0.71327256 0.71557774 0.70966168 0.71358097 0.71732555 0.71701065\n",
      " 0.69874004 0.71379999 0.7136836  0.71536236 0.69118022 0.70982716\n",
      " 0.71557475 0.71555424 0.69165565 0.7094327  0.71739965 0.71664782\n",
      " 0.69678276 0.71295503 0.71429015 0.71424875 0.70286911 0.71155651\n",
      " 0.71655778 0.71553944 0.70111178 0.71194907 0.71235618 0.7149356\n",
      " 0.68745793 0.70467896 0.70687651 0.71381565 0.68301334 0.71254516\n",
      " 0.71608038 0.71542885 0.70000075 0.71446732 0.71529886 0.71723961\n",
      " 0.69807716 0.71433738 0.71674952 0.71435791 0.68579215 0.71452344\n",
      " 0.71399265 0.71653404 0.69397609 0.71171074 0.71442868 0.71587419\n",
      " 0.69897018 0.71217028 0.71586077 0.71535985 0.6999586  0.71447301\n",
      " 0.71525546 0.7161549  0.69979467 0.71547896 0.7147835  0.71536215\n",
      " 0.65754924 0.6816998  0.68352368 0.68217934 0.68342032 0.68981298\n",
      " 0.69541556 0.69479593 0.68930219 0.70363172 0.7099457  0.71070388\n",
      " 0.68277202 0.70219472 0.70454923 0.70281197 0.68041473 0.70612718\n",
      " 0.70403503 0.70355132 0.70488185 0.70811071 0.71416582 0.71188154\n",
      " 0.70144214 0.71171755 0.71389115 0.71594571 0.70676902 0.71198296\n",
      " 0.71217574 0.71512467 0.71201489 0.71644096 0.71408708 0.71665636\n",
      "        nan        nan        nan        nan        nan        nan\n",
      "        nan        nan        nan        nan        nan        nan\n",
      "        nan        nan        nan        nan        nan        nan\n",
      "        nan        nan        nan        nan        nan        nan\n",
      "        nan        nan        nan        nan        nan        nan\n",
      "        nan        nan        nan        nan        nan        nan\n",
      " 0.66974725 0.7055621  0.71142678 0.71054226 0.70528245 0.71269224\n",
      " 0.71633425 0.72045269 0.69724854 0.71803662 0.72108799 0.72083948\n",
      " 0.69503893 0.71846574 0.72167792 0.72172946 0.70170788 0.71910092\n",
      " 0.72036927 0.71832872 0.70265875 0.71860941 0.71783003 0.72094847\n",
      " 0.70455248 0.71717735 0.71836951 0.71894179 0.70714642 0.71430619\n",
      " 0.71771343 0.71982115 0.70680412 0.71393631 0.7203093  0.71767546\n",
      " 0.66650858 0.70914361 0.70611619 0.71190467 0.69548212 0.71540319\n",
      " 0.71596772 0.71792812 0.70374158 0.7178661  0.71868787 0.72112627\n",
      " 0.69779507 0.71550358 0.72204061 0.72079497 0.70426163 0.71704057\n",
      " 0.7195749  0.72119555 0.70333756 0.71761328 0.71856127 0.72086952\n",
      " 0.70220919 0.71857133 0.7187626  0.71888837 0.71031963 0.71605815\n",
      " 0.71811014 0.71971294 0.70431195 0.71456588 0.71828879 0.71856529\n",
      " 0.64284209 0.67948571 0.67635264 0.67624567 0.65856992 0.69247209\n",
      " 0.69222492 0.69453658 0.69027906 0.70829514 0.71138202 0.71369228\n",
      " 0.69157593 0.70083161 0.70101175 0.70293518 0.68200272 0.70454901\n",
      " 0.70580571 0.70436649 0.69428246 0.71431334 0.7098746  0.71515995\n",
      " 0.70180599 0.7168337  0.71342664 0.71396921 0.71129582 0.7090205\n",
      " 0.71285334 0.71524963 0.70494633 0.71364382 0.71711697 0.71608809\n",
      "        nan        nan        nan        nan        nan        nan\n",
      "        nan        nan        nan        nan        nan        nan\n",
      "        nan        nan        nan        nan        nan        nan\n",
      "        nan        nan        nan        nan        nan        nan\n",
      "        nan        nan        nan        nan        nan        nan\n",
      "        nan        nan        nan        nan        nan        nan\n",
      " 0.66785924 0.70794415 0.70616953 0.70894125 0.69330255 0.71202339\n",
      " 0.71585225 0.72050397 0.69478307 0.71735709 0.72340793 0.72185885\n",
      " 0.70370121 0.71404805 0.72182947 0.72046662 0.70049935 0.71802947\n",
      " 0.72097412 0.71931768 0.6975161  0.71759472 0.72046187 0.71973284\n",
      " 0.70496806 0.71722181 0.72058069 0.71884428 0.70726158 0.71877799\n",
      " 0.71707639 0.71910754 0.70747914 0.71431348 0.71835069 0.71977905\n",
      " 0.68439195 0.70812692 0.70127705 0.71009372 0.69593082 0.70953025\n",
      " 0.71923961 0.71927891 0.705581   0.71648203 0.72123297 0.72113401\n",
      " 0.69729689 0.71308594 0.72098491 0.72073767 0.69276986 0.7162159\n",
      " 0.7196689  0.72024071 0.69118115 0.71974707 0.71896805 0.72068402\n",
      " 0.70216913 0.71794091 0.71772295 0.71910896 0.70530467 0.71528115\n",
      " 0.72003688 0.71865005 0.70340078 0.7197382  0.71690433 0.71915674\n",
      " 0.64743665 0.67068627 0.67262845 0.67754064 0.6730354  0.68246528\n",
      " 0.69147848 0.69849687 0.69798635 0.70614978 0.71082851 0.71272792\n",
      " 0.68024346 0.69638244 0.70015527 0.70407285 0.68233567 0.70092045\n",
      " 0.70491539 0.70449421 0.7044136  0.70673853 0.71562948 0.7132294\n",
      " 0.70859753 0.71138639 0.71408657 0.71500345 0.70494277 0.71521125\n",
      " 0.7152928  0.71499273 0.70250363 0.71390944 0.7155496  0.71555736\n",
      "        nan        nan        nan        nan        nan        nan\n",
      "        nan        nan        nan        nan        nan        nan\n",
      "        nan        nan        nan        nan        nan        nan\n",
      "        nan        nan        nan        nan        nan        nan\n",
      "        nan        nan        nan        nan        nan        nan\n",
      "        nan        nan        nan        nan        nan        nan\n",
      " 0.6742179  0.71079555 0.71102216 0.70585814 0.70172674 0.71202781\n",
      " 0.71778961 0.71697451 0.70437728 0.71905993 0.71957547 0.72166149\n",
      " 0.70890006 0.71676574 0.71998462 0.72189771 0.6984213  0.71818958\n",
      " 0.71926683 0.71994177 0.69795109 0.71570555 0.7209951  0.72164741\n",
      " 0.70393069 0.71817558 0.72016875 0.71902741 0.70904813 0.71869463\n",
      " 0.71902185 0.71875025 0.70822204 0.71714189 0.7170237  0.71781235\n",
      " 0.66361534 0.70140159 0.70735963 0.7067447  0.69357988 0.71578057\n",
      " 0.71601054 0.7199229  0.70683574 0.71541618 0.7199135  0.71988552\n",
      " 0.70182663 0.71782809 0.72092612 0.720807   0.70864234 0.71477031\n",
      " 0.71877175 0.72050631 0.70208852 0.71590078 0.72013251 0.72104036\n",
      " 0.70977181 0.71569625 0.71921045 0.71908816 0.70714696 0.71634577\n",
      " 0.71734111 0.71739907 0.70364127 0.71794988 0.71651675 0.71876592\n",
      " 0.61628979 0.67672624 0.67863153 0.67861607 0.68377258 0.69295191\n",
      " 0.69402466 0.69466882 0.70237632 0.70951434 0.71081914 0.71283159\n",
      " 0.68628669 0.70275266 0.70551184 0.70455694 0.67586327 0.70354859\n",
      " 0.70530314 0.70814043 0.69917486 0.71422564 0.71042905 0.71440833\n",
      " 0.70313501 0.71432308 0.71603003 0.71336385 0.70104121 0.71361519\n",
      " 0.71656155 0.7133519  0.71174926 0.7134482  0.71787042 0.71612093]\n",
      "  warnings.warn(\n"
     ]
    },
    {
     "name": "stdout",
     "output_type": "stream",
     "text": [
      "Best parameters: {'max_depth': 20, 'max_features': 'sqrt', 'min_samples_leaf': 1, 'min_samples_split': 10, 'n_estimators': 100}\n",
      "Best CV score: 0.7234079349277442\n"
     ]
    }
   ],
   "source": [
    "\n",
    "# Hyperparameters to tune\n",
    "param_grid = {\n",
    "    'max_depth': [5, 10, 15, 20, None],\n",
    "    'min_samples_split': [2, 5, 10],\n",
    "    'min_samples_leaf': [1, 2, 4],\n",
    "    'max_features': ['auto', 'sqrt', 'log2', None],\n",
    "    'n_estimators': [10, 50, 100, 200]\n",
    "}\n",
    "\n",
    "# Grid Search\n",
    "grid_search = GridSearchCV(RandomForestRegressor(), param_grid, cv=10, n_jobs=-1, verbose=1)\n",
    "grid_search.fit(X_train, y_train)\n",
    "\n",
    "# Best parameters and best score\n",
    "print(\"Best parameters:\", grid_search.best_params_)\n",
    "print(\"Best CV score:\", grid_search.best_score_)\n"
   ]
  },
  {
   "cell_type": "code",
   "execution_count": 6,
   "metadata": {},
   "outputs": [],
   "source": [
    "model= RandomForestRegressor(**grid_search.best_params_, oob_score= True)\n",
    "model.fit(X_train, y_train)\n",
    "\n",
    "y_hat= model.predict(X_test)"
   ]
  },
  {
   "cell_type": "code",
   "execution_count": 7,
   "metadata": {},
   "outputs": [
    {
     "name": "stdout",
     "output_type": "stream",
     "text": [
      "Mean Absolute Error (MAE): 95491.38704008085\n",
      "Root Mean Squared Error (RMSE): 148934.99417648333\n",
      "Mean Squared Error (MSE): 22181632490.349125\n",
      "Mean Absolute Percentage Error (MAPE): 0.21187812416593946\n",
      "R²: 0.7690476965125956\n"
     ]
    }
   ],
   "source": [
    "mae = mean_absolute_error(y_test, y_hat)\n",
    "mse = mean_squared_error(y_test, y_hat)\n",
    "rmse = np.sqrt(mean_squared_error(y_test, y_hat))\n",
    "mape=mean_absolute_percentage_error(y_test, y_hat)\n",
    "r2 = r2_score(y_test, y_hat)\n",
    "\n",
    "\n",
    "print(f\"Mean Absolute Error (MAE): {mae}\")\n",
    "print(f\"Root Mean Squared Error (RMSE): {rmse}\")\n",
    "print(f\"Mean Squared Error (MSE): {mse}\")\n",
    "print(f\"Mean Absolute Percentage Error (MAPE): {mape}\")\n",
    "print(f\"R²: {r2}\")"
   ]
  },
  {
   "cell_type": "code",
   "execution_count": 8,
   "metadata": {},
   "outputs": [
    {
     "name": "stdout",
     "output_type": "stream",
     "text": [
      "===== Training Metrics =====\n",
      "Mean Absolute Error (MAE): 75473.2850\n",
      "Root Mean Squared Error (RMSE): 145937.9633\n",
      "Mean Squared Error (MSE): 21297889133.0824\n",
      "Mean Absolute Percentage Error (MAPE): 0.1626\n",
      "R²: 0.8348\n",
      "\n",
      "===== Testing Metrics =====\n",
      "Mean Absolute Error (MAE): 95491.3870\n",
      "Root Mean Squared Error (RMSE): 148934.9942\n",
      "Mean Squared Error (MSE): 22181632490.3491\n",
      "Mean Absolute Percentage Error (MAPE): 0.2119\n",
      "R²: 0.7690\n"
     ]
    }
   ],
   "source": [
    "y_train_pred = model.predict(X_train)\n",
    "y_test_pred = model.predict(X_test)\n",
    "\n",
    "# Train metrics\n",
    "mae_train = mean_absolute_error(y_train, y_train_pred)\n",
    "mse_train = mean_squared_error(y_train, y_train_pred)\n",
    "rmse_train = np.sqrt(mse_train)\n",
    "mape_train = mean_absolute_percentage_error(y_train, y_train_pred)\n",
    "r2_train = r2_score(y_train, y_train_pred)\n",
    "\n",
    "# Test metrics\n",
    "mae_test = mean_absolute_error(y_test, y_test_pred)\n",
    "mse_test = mean_squared_error(y_test, y_test_pred)\n",
    "rmse_test = np.sqrt(mse_test)\n",
    "mape_test = mean_absolute_percentage_error(y_test, y_test_pred)\n",
    "r2_test = r2_score(y_test, y_test_pred)\n",
    "\n",
    "# Display results\n",
    "print(\"===== Training Metrics =====\")\n",
    "print(f\"Mean Absolute Error (MAE): {mae_train:.4f}\")\n",
    "print(f\"Root Mean Squared Error (RMSE): {rmse_train:.4f}\")\n",
    "print(f\"Mean Squared Error (MSE): {mse_train:.4f}\")\n",
    "print(f\"Mean Absolute Percentage Error (MAPE): {mape_train:.4f}\")\n",
    "print(f\"R²: {r2_train:.4f}\")\n",
    "\n",
    "print(\"\\n===== Testing Metrics =====\")\n",
    "print(f\"Mean Absolute Error (MAE): {mae_test:.4f}\")\n",
    "print(f\"Root Mean Squared Error (RMSE): {rmse_test:.4f}\")\n",
    "print(f\"Mean Squared Error (MSE): {mse_test:.4f}\")\n",
    "print(f\"Mean Absolute Percentage Error (MAPE): {mape_test:.4f}\")\n",
    "print(f\"R²: {r2_test:.4f}\")\n"
   ]
  },
  {
   "cell_type": "markdown",
   "metadata": {},
   "source": [
    "**R² is around 77% , this means that model explains about 77% of the variance in apartment prices.\n",
    "The higher the R², the better the model’s fit to the data.**"
   ]
  },
  {
   "cell_type": "markdown",
   "metadata": {},
   "source": [
    "**cross validation**"
   ]
  },
  {
   "cell_type": "code",
   "execution_count": 9,
   "metadata": {},
   "outputs": [
    {
     "data": {
      "image/png": "[encoded data removed]",
      "text/plain": [
       "<Figure size 640x480 with 1 Axes>"
      ]
     },
     "metadata": {},
     "output_type": "display_data"
    },
    {
     "name": "stdout",
     "output_type": "stream",
     "text": [
      "Average CV Score: 0.7050803029181404\n"
     ]
    }
   ],
   "source": [
    "cv_scores = cross_val_score(model, X_train, y_train, cv=5)\n",
    "\n",
    "# Plotting the cross-validation scores\n",
    "plt.boxplot(cv_scores)\n",
    "plt.title('Cross-Validation Scores for Random Forest')\n",
    "plt.ylabel('Score')\n",
    "plt.show()\n",
    "\n",
    "print(f'Average CV Score: {cv_scores.mean()}')\n"
   ]
  },
  {
   "cell_type": "markdown",
   "metadata": {},
   "source": [
    "**around 70% accuracy**"
   ]
  },
  {
   "cell_type": "markdown",
   "metadata": {},
   "source": [
    "**OOB: out of bag error**"
   ]
  },
  {
   "cell_type": "code",
   "execution_count": 11,
   "metadata": {},
   "outputs": [
    {
     "name": "stdout",
     "output_type": "stream",
     "text": [
      "OOB Score: 0.7060734760598328\n"
     ]
    }
   ],
   "source": [
    "# OOB error score\n",
    "print(f\"OOB Score: {model.oob_score_}\")"
   ]
  },
  {
   "cell_type": "markdown",
   "metadata": {},
   "source": [
    "**learning curve**"
   ]
  },
  {
   "cell_type": "code",
   "execution_count": 12,
   "metadata": {},
   "outputs": [
    {
     "data": {
      "image/png": "[encoded data removed]",
      "text/plain": [
       "<Figure size 640x480 with 1 Axes>"
      ]
     },
     "metadata": {},
     "output_type": "display_data"
    }
   ],
   "source": [
    "\n",
    "train_sizes, train_scores, test_scores = learning_curve(model, X_train, y_train, cv=5)\n",
    "\n",
    "plt.plot(train_sizes, np.mean(train_scores, axis=1), label='Train score')\n",
    "plt.plot(train_sizes, np.mean(test_scores, axis=1), label='Test score')\n",
    "plt.xlabel('Training Size')\n",
    "plt.ylabel('Score')\n",
    "plt.title('Learning Curves')\n",
    "plt.legend()\n",
    "plt.show()\n"
   ]
  },
  {
   "cell_type": "markdown",
   "metadata": {},
   "source": [
    "The test score starts low but increases as the training size increases, which suggests that adding more data improves generalization.\n",
    " \n",
    "There is still a noticeable gap between train and test scores, indicating that the model may be slightly overfitting.\n"
   ]
  }
 ],
 "metadata": {
  "kernelspec": {
   "display_name": "venv",
   "language": "python",
   "name": "python3"
  },
  "language_info": {
   "codemirror_mode": {
    "name": "ipython",
    "version": 3
   },
   "file_extension": ".py",
   "mimetype": "text/x-python",
   "name": "python",
   "nbconvert_exporter": "python",
   "pygments_lexer": "ipython3",
   "version": "3.10.15"
  }
 },
 "nbformat": 4,
 "nbformat_minor": 2
}
