{
 "cells": [
  {
   "cell_type": "code",
   "execution_count": 13,
   "metadata": {},
   "outputs": [],
   "source": [
    "import pandas as pd\n",
    "from sklearn.model_selection import train_test_split, learning_curve, cross_val_score, GridSearchCV\n",
    "from sklearn.metrics import mean_squared_error, r2_score, mean_absolute_error, mean_absolute_percentage_error\n",
    "import numpy as np\n",
    "import matplotlib.pyplot as plt\n",
    "from sklearn.tree import DecisionTreeRegressor\n"
   ]
  },
  {
   "cell_type": "code",
   "execution_count": 14,
   "metadata": {},
   "outputs": [
    {
     "data": {
      "text/html": [
       "<div>\n",
       "<style scoped>\n",
       "    .dataframe tbody tr th:only-of-type {\n",
       "        vertical-align: middle;\n",
       "    }\n",
       "\n",
       "    .dataframe tbody tr th {\n",
       "        vertical-align: top;\n",
       "    }\n",
       "\n",
       "    .dataframe thead th {\n",
       "        text-align: right;\n",
       "    }\n",
       "</style>\n",
       "<table border=\"1\" class=\"dataframe\">\n",
       "  <thead>\n",
       "    <tr style=\"text-align: right;\">\n",
       "      <th></th>\n",
       "      <th>delegation</th>\n",
       "      <th>superficie</th>\n",
       "      <th>chambres</th>\n",
       "      <th>salle_de_bains</th>\n",
       "      <th>etat</th>\n",
       "      <th>etage</th>\n",
       "      <th>gouvernorat_ariana</th>\n",
       "      <th>gouvernorat_ben-arous</th>\n",
       "      <th>gouvernorat_la-manouba</th>\n",
       "      <th>gouvernorat_tunis</th>\n",
       "      <th>prix</th>\n",
       "    </tr>\n",
       "  </thead>\n",
       "  <tbody>\n",
       "    <tr>\n",
       "      <th>0</th>\n",
       "      <td>21.0</td>\n",
       "      <td>62</td>\n",
       "      <td>1</td>\n",
       "      <td>1</td>\n",
       "      <td>10</td>\n",
       "      <td>1</td>\n",
       "      <td>0.0</td>\n",
       "      <td>0.0</td>\n",
       "      <td>0.0</td>\n",
       "      <td>1.0</td>\n",
       "      <td>259532.0</td>\n",
       "    </tr>\n",
       "    <tr>\n",
       "      <th>1</th>\n",
       "      <td>32.0</td>\n",
       "      <td>300</td>\n",
       "      <td>2</td>\n",
       "      <td>1</td>\n",
       "      <td>10</td>\n",
       "      <td>5</td>\n",
       "      <td>0.0</td>\n",
       "      <td>0.0</td>\n",
       "      <td>0.0</td>\n",
       "      <td>1.0</td>\n",
       "      <td>1208100.0</td>\n",
       "    </tr>\n",
       "    <tr>\n",
       "      <th>2</th>\n",
       "      <td>26.0</td>\n",
       "      <td>142</td>\n",
       "      <td>1</td>\n",
       "      <td>1</td>\n",
       "      <td>11</td>\n",
       "      <td>1</td>\n",
       "      <td>1.0</td>\n",
       "      <td>0.0</td>\n",
       "      <td>0.0</td>\n",
       "      <td>0.0</td>\n",
       "      <td>707302.0</td>\n",
       "    </tr>\n",
       "    <tr>\n",
       "      <th>3</th>\n",
       "      <td>29.0</td>\n",
       "      <td>281</td>\n",
       "      <td>3</td>\n",
       "      <td>2</td>\n",
       "      <td>11</td>\n",
       "      <td>8</td>\n",
       "      <td>0.0</td>\n",
       "      <td>0.0</td>\n",
       "      <td>0.0</td>\n",
       "      <td>1.0</td>\n",
       "      <td>1255227.0</td>\n",
       "    </tr>\n",
       "    <tr>\n",
       "      <th>4</th>\n",
       "      <td>26.0</td>\n",
       "      <td>153</td>\n",
       "      <td>1</td>\n",
       "      <td>1</td>\n",
       "      <td>10</td>\n",
       "      <td>1</td>\n",
       "      <td>1.0</td>\n",
       "      <td>0.0</td>\n",
       "      <td>0.0</td>\n",
       "      <td>0.0</td>\n",
       "      <td>687429.0</td>\n",
       "    </tr>\n",
       "  </tbody>\n",
       "</table>\n",
       "</div>"
      ],
      "text/plain": [
       "   delegation  superficie  chambres  salle_de_bains  etat  etage  \\\n",
       "0        21.0          62         1               1    10      1   \n",
       "1        32.0         300         2               1    10      5   \n",
       "2        26.0         142         1               1    11      1   \n",
       "3        29.0         281         3               2    11      8   \n",
       "4        26.0         153         1               1    10      1   \n",
       "\n",
       "   gouvernorat_ariana  gouvernorat_ben-arous  gouvernorat_la-manouba  \\\n",
       "0                 0.0                    0.0                     0.0   \n",
       "1                 0.0                    0.0                     0.0   \n",
       "2                 1.0                    0.0                     0.0   \n",
       "3                 0.0                    0.0                     0.0   \n",
       "4                 1.0                    0.0                     0.0   \n",
       "\n",
       "   gouvernorat_tunis       prix  \n",
       "0                1.0   259532.0  \n",
       "1                1.0  1208100.0  \n",
       "2                0.0   707302.0  \n",
       "3                1.0  1255227.0  \n",
       "4                0.0   687429.0  "
      ]
     },
     "execution_count": 14,
     "metadata": {},
     "output_type": "execute_result"
    }
   ],
   "source": [
    "df= pd.read_csv('../csv/after_cleaning/final.csv')\n",
    "df.head()"
   ]
  },
  {
   "cell_type": "markdown",
   "metadata": {},
   "source": [
    "**train test split**"
   ]
  },
  {
   "cell_type": "markdown",
   "metadata": {},
   "source": [
    "NOTE: Tree-based models are not affected by the scale of features because they split based on feature thresholds"
   ]
  },
  {
   "cell_type": "code",
   "execution_count": 15,
   "metadata": {},
   "outputs": [],
   "source": [
    "X= df.drop(columns='prix')\n",
    "\n",
    "y= df['prix']\n",
    "\n",
    "X_train, X_test, y_train, y_test= train_test_split(X, y, test_size=0.2, random_state=42)"
   ]
  },
  {
   "cell_type": "markdown",
   "metadata": {},
   "source": [
    "# Decision Tree"
   ]
  },
  {
   "cell_type": "markdown",
   "metadata": {},
   "source": [
    "**parameters tuning**"
   ]
  },
  {
   "cell_type": "code",
   "execution_count": 16,
   "metadata": {},
   "outputs": [
    {
     "name": "stdout",
     "output_type": "stream",
     "text": [
      "Fitting 10 folds for each of 180 candidates, totalling 1800 fits\n",
      "Best parameters: {'max_depth': 5, 'max_features': None, 'min_samples_leaf': 2, 'min_samples_split': 5}\n",
      "Best CV score: 0.6774798024701338\n"
     ]
    },
    {
     "name": "stderr",
     "output_type": "stream",
     "text": [
      "/home/lost-elf/Apartments-Sales/venv/lib/python3.10/site-packages/sklearn/model_selection/_validation.py:540: FitFailedWarning: \n",
      "450 fits failed out of a total of 1800.\n",
      "The score on these train-test partitions for these parameters will be set to nan.\n",
      "If these failures are not expected, you can try to debug them by setting error_score='raise'.\n",
      "\n",
      "Below are more details about the failures:\n",
      "--------------------------------------------------------------------------------\n",
      "165 fits failed with the following error:\n",
      "Traceback (most recent call last):\n",
      "  File \"/home/lost-elf/Apartments-Sales/venv/lib/python3.10/site-packages/sklearn/model_selection/_validation.py\", line 888, in _fit_and_score\n",
      "    estimator.fit(X_train, y_train, **fit_params)\n",
      "  File \"/home/lost-elf/Apartments-Sales/venv/lib/python3.10/site-packages/sklearn/base.py\", line 1466, in wrapper\n",
      "    estimator._validate_params()\n",
      "  File \"/home/lost-elf/Apartments-Sales/venv/lib/python3.10/site-packages/sklearn/base.py\", line 666, in _validate_params\n",
      "    validate_parameter_constraints(\n",
      "  File \"/home/lost-elf/Apartments-Sales/venv/lib/python3.10/site-packages/sklearn/utils/_param_validation.py\", line 95, in validate_parameter_constraints\n",
      "    raise InvalidParameterError(\n",
      "sklearn.utils._param_validation.InvalidParameterError: The 'max_features' parameter of DecisionTreeRegressor must be an int in the range [1, inf), a float in the range (0.0, 1.0], a str among {'log2', 'sqrt'} or None. Got 'auto' instead.\n",
      "\n",
      "--------------------------------------------------------------------------------\n",
      "285 fits failed with the following error:\n",
      "Traceback (most recent call last):\n",
      "  File \"/home/lost-elf/Apartments-Sales/venv/lib/python3.10/site-packages/sklearn/model_selection/_validation.py\", line 888, in _fit_and_score\n",
      "    estimator.fit(X_train, y_train, **fit_params)\n",
      "  File \"/home/lost-elf/Apartments-Sales/venv/lib/python3.10/site-packages/sklearn/base.py\", line 1466, in wrapper\n",
      "    estimator._validate_params()\n",
      "  File \"/home/lost-elf/Apartments-Sales/venv/lib/python3.10/site-packages/sklearn/base.py\", line 666, in _validate_params\n",
      "    validate_parameter_constraints(\n",
      "  File \"/home/lost-elf/Apartments-Sales/venv/lib/python3.10/site-packages/sklearn/utils/_param_validation.py\", line 95, in validate_parameter_constraints\n",
      "    raise InvalidParameterError(\n",
      "sklearn.utils._param_validation.InvalidParameterError: The 'max_features' parameter of DecisionTreeRegressor must be an int in the range [1, inf), a float in the range (0.0, 1.0], a str among {'sqrt', 'log2'} or None. Got 'auto' instead.\n",
      "\n",
      "  warnings.warn(some_fits_failed_message, FitFailedWarning)\n",
      "/home/lost-elf/Apartments-Sales/venv/lib/python3.10/site-packages/sklearn/model_selection/_search.py:1103: UserWarning: One or more of the test scores are non-finite: [       nan        nan        nan        nan        nan        nan\n",
      "        nan        nan        nan 0.55566421 0.55072058 0.51353181\n",
      " 0.51897532 0.55806357 0.53082709 0.56148731 0.58467449 0.55584332\n",
      " 0.60686207 0.49827292 0.55747408 0.54338501 0.52958399 0.55534036\n",
      " 0.58146844 0.54336921 0.55629101 0.67241354 0.67073297 0.67209788\n",
      " 0.67684094 0.6774798  0.67652528 0.66251089 0.66251089 0.66251089\n",
      "        nan        nan        nan        nan        nan        nan\n",
      "        nan        nan        nan 0.46688813 0.53248916 0.60224032\n",
      " 0.51513746 0.58853635 0.60096045 0.61248983 0.61394684 0.60059627\n",
      " 0.54171191 0.48382176 0.56776703 0.54439055 0.58605567 0.57556384\n",
      " 0.63380563 0.56799838 0.59391324 0.45051089 0.53360629 0.56668551\n",
      " 0.56723367 0.57419881 0.5961276  0.62011628 0.62067    0.6213967\n",
      "        nan        nan        nan        nan        nan        nan\n",
      "        nan        nan        nan 0.36029587 0.54437292 0.56322993\n",
      " 0.59280369 0.5763565  0.59305963 0.61701128 0.59171582 0.5791422\n",
      " 0.21683903 0.5220235  0.55097083 0.56159915 0.60434062 0.54913953\n",
      " 0.613716   0.57578276 0.58099647 0.35980989 0.5101698  0.55611072\n",
      " 0.54123428 0.54929248 0.58889932 0.6141843  0.61273666 0.61592413\n",
      "        nan        nan        nan        nan        nan        nan\n",
      "        nan        nan        nan 0.50776135 0.51683079 0.55217566\n",
      " 0.56495676 0.56709261 0.59474965 0.58390696 0.5883686  0.6177541\n",
      " 0.32167043 0.49367407 0.54253029 0.58054088 0.57521469 0.5811571\n",
      " 0.59001606 0.59887627 0.59236445 0.38831419 0.50314245 0.55517118\n",
      " 0.53496364 0.54681941 0.58948623 0.61201475 0.61245774 0.6157281\n",
      "        nan        nan        nan        nan        nan        nan\n",
      "        nan        nan        nan 0.24274119 0.56206112 0.63718001\n",
      " 0.52001871 0.54310764 0.60706115 0.60610327 0.57914942 0.60279812\n",
      " 0.51366225 0.47900912 0.52925549 0.60500469 0.56542573 0.56520132\n",
      " 0.63552934 0.60707578 0.6019671  0.3380362  0.50223147 0.55777198\n",
      " 0.5373143  0.55141155 0.58841498 0.61280615 0.61275479 0.61570261]\n",
      "  warnings.warn(\n"
     ]
    }
   ],
   "source": [
    "\n",
    "# Hyperparameters to tune\n",
    "param_grid = {\n",
    "    'max_depth': [5, 10, 15, 20, None],\n",
    "    'min_samples_split': [2, 5, 10],\n",
    "    'min_samples_leaf': [1, 2, 4],\n",
    "    'max_features': ['auto', 'sqrt', 'log2', None]\n",
    "}\n",
    "\n",
    "# Grid Search\n",
    "grid_search = GridSearchCV(DecisionTreeRegressor(), param_grid, cv=10, n_jobs=-1, verbose=1)\n",
    "grid_search.fit(X_train, y_train)\n",
    "\n",
    "# Best parameters and best score\n",
    "print(\"Best parameters:\", grid_search.best_params_)\n",
    "print(\"Best CV score:\", grid_search.best_score_)\n"
   ]
  },
  {
   "cell_type": "code",
   "execution_count": 17,
   "metadata": {},
   "outputs": [],
   "source": [
    "model= DecisionTreeRegressor(**grid_search.best_params_)\n",
    "\n",
    "model.fit(X_train, y_train)\n",
    "\n",
    "y_hat= model.predict(X_test)"
   ]
  },
  {
   "cell_type": "code",
   "execution_count": 18,
   "metadata": {},
   "outputs": [
    {
     "name": "stdout",
     "output_type": "stream",
     "text": [
      "Mean Absolute Error (MAE): 110288.32990583956\n",
      "Root Mean Squared Error (RMSE): 167126.74136638656\n",
      "Mean Squared Error (MSE): 27931347679.747063\n",
      "Mean Absolute Percentage Error (MAPE): 0.25331065915949585\n",
      "R²: 0.7091824017483026\n"
     ]
    }
   ],
   "source": [
    "mae = mean_absolute_error(y_test, y_hat)\n",
    "mse = mean_squared_error(y_test, y_hat)\n",
    "rmse = np.sqrt(mean_squared_error(y_test, y_hat))\n",
    "mape=mean_absolute_percentage_error(y_test, y_hat)\n",
    "r2 = r2_score(y_test, y_hat)\n",
    "\n",
    "\n",
    "print(f\"Mean Absolute Error (MAE): {mae}\")\n",
    "print(f\"Root Mean Squared Error (RMSE): {rmse}\")\n",
    "print(f\"Mean Squared Error (MSE): {mse}\")\n",
    "print(f\"Mean Absolute Percentage Error (MAPE): {mape}\")\n",
    "print(f\"R²: {r2}\")"
   ]
  },
  {
   "cell_type": "code",
   "execution_count": 19,
   "metadata": {},
   "outputs": [
    {
     "name": "stdout",
     "output_type": "stream",
     "text": [
      "===== Training Metrics =====\n",
      "Mean Absolute Error (MAE): 113994.2014\n",
      "Root Mean Squared Error (RMSE): 193217.8591\n",
      "Mean Squared Error (MSE): 37333141091.9947\n",
      "Mean Absolute Percentage Error (MAPE): 0.2574\n",
      "R²: 0.7104\n",
      "\n",
      "===== Testing Metrics =====\n",
      "Mean Absolute Error (MAE): 110288.3299\n",
      "Root Mean Squared Error (RMSE): 167126.7414\n",
      "Mean Squared Error (MSE): 27931347679.7471\n",
      "Mean Absolute Percentage Error (MAPE): 0.2533\n",
      "R²: 0.7092\n"
     ]
    }
   ],
   "source": [
    "y_train_pred = model.predict(X_train)\n",
    "y_test_pred = model.predict(X_test)\n",
    "\n",
    "# Train metrics\n",
    "mae_train = mean_absolute_error(y_train, y_train_pred)\n",
    "mse_train = mean_squared_error(y_train, y_train_pred)\n",
    "rmse_train = np.sqrt(mse_train)\n",
    "mape_train = mean_absolute_percentage_error(y_train, y_train_pred)\n",
    "r2_train = r2_score(y_train, y_train_pred)\n",
    "\n",
    "# Test metrics\n",
    "mae_test = mean_absolute_error(y_test, y_test_pred)\n",
    "mse_test = mean_squared_error(y_test, y_test_pred)\n",
    "rmse_test = np.sqrt(mse_test)\n",
    "mape_test = mean_absolute_percentage_error(y_test, y_test_pred)\n",
    "r2_test = r2_score(y_test, y_test_pred)\n",
    "\n",
    "# Display results\n",
    "print(\"===== Training Metrics =====\")\n",
    "print(f\"Mean Absolute Error (MAE): {mae_train:.4f}\")\n",
    "print(f\"Root Mean Squared Error (RMSE): {rmse_train:.4f}\")\n",
    "print(f\"Mean Squared Error (MSE): {mse_train:.4f}\")\n",
    "print(f\"Mean Absolute Percentage Error (MAPE): {mape_train:.4f}\")\n",
    "print(f\"R²: {r2_train:.4f}\")\n",
    "\n",
    "print(\"\\n===== Testing Metrics =====\")\n",
    "print(f\"Mean Absolute Error (MAE): {mae_test:.4f}\")\n",
    "print(f\"Root Mean Squared Error (RMSE): {rmse_test:.4f}\")\n",
    "print(f\"Mean Squared Error (MSE): {mse_test:.4f}\")\n",
    "print(f\"Mean Absolute Percentage Error (MAPE): {mape_test:.4f}\")\n",
    "print(f\"R²: {r2_test:.4f}\")\n"
   ]
  },
  {
   "cell_type": "markdown",
   "metadata": {},
   "source": [
    "**R² is around 70% , this means the model explains about 70% of the variance in apartment prices.\n",
    "The higher the R², the better the model’s fit to the data.**"
   ]
  },
  {
   "cell_type": "markdown",
   "metadata": {},
   "source": [
    "**cross validation**"
   ]
  },
  {
   "cell_type": "code",
   "execution_count": 20,
   "metadata": {},
   "outputs": [
    {
     "data": {
      "image/png": "[encoded data removed]",
      "text/plain": [
       "<Figure size 640x480 with 1 Axes>"
      ]
     },
     "metadata": {},
     "output_type": "display_data"
    },
    {
     "name": "stdout",
     "output_type": "stream",
     "text": [
      "Average CV Score: 0.6687440033267865\n"
     ]
    }
   ],
   "source": [
    "cv_scores = cross_val_score(model, X_train, y_train, cv=5)\n",
    "\n",
    "# Plotting the cross-validation scores\n",
    "plt.boxplot(cv_scores)\n",
    "plt.title('Cross-Validation Scores')\n",
    "plt.ylabel('Score')\n",
    "plt.show()\n",
    "\n",
    "print(f'Average CV Score: {cv_scores.mean()}')\n"
   ]
  },
  {
   "cell_type": "markdown",
   "metadata": {},
   "source": [
    "**learning curve**"
   ]
  },
  {
   "cell_type": "code",
   "execution_count": 21,
   "metadata": {},
   "outputs": [
    {
     "data": {
      "image/png": "[encoded data removed]",
      "text/plain": [
       "<Figure size 640x480 with 1 Axes>"
      ]
     },
     "metadata": {},
     "output_type": "display_data"
    }
   ],
   "source": [
    "\n",
    "train_sizes, train_scores, test_scores = learning_curve(model, X_train, y_train, cv=10)\n",
    "\n",
    "plt.plot(train_sizes, np.mean(train_scores, axis=1), label='Train score')\n",
    "plt.plot(train_sizes, np.mean(test_scores, axis=1), label='Test score')\n",
    "plt.xlabel('Training Size')\n",
    "plt.ylabel('Score')\n",
    "plt.title('Learning Curves')\n",
    "plt.legend()\n",
    "plt.show()\n"
   ]
  },
  {
   "cell_type": "code",
   "execution_count": null,
   "metadata": {},
   "outputs": [],
   "source": []
  }
 ],
 "metadata": {
  "kernelspec": {
   "display_name": "venv",
   "language": "python",
   "name": "python3"
  },
  "language_info": {
   "codemirror_mode": {
    "name": "ipython",
    "version": 3
   },
   "file_extension": ".py",
   "mimetype": "text/x-python",
   "name": "python",
   "nbconvert_exporter": "python",
   "pygments_lexer": "ipython3",
   "version": "3.10.15"
  }
 },
 "nbformat": 4,
 "nbformat_minor": 2
}
