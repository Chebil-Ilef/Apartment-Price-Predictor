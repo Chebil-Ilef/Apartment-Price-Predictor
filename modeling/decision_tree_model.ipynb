{
 "cells": [
  {
   "cell_type": "code",
   "execution_count": 10,
   "metadata": {},
   "outputs": [],
   "source": [
    "import pandas as pd\n",
    "from sklearn.model_selection import train_test_split, learning_curve, cross_val_score, GridSearchCV\n",
    "from sklearn.metrics import mean_squared_error, r2_score, mean_absolute_error\n",
    "import numpy as np\n",
    "import matplotlib.pyplot as plt\n",
    "from sklearn.tree import DecisionTreeRegressor\n"
   ]
  },
  {
   "cell_type": "code",
   "execution_count": 2,
   "metadata": {},
   "outputs": [
    {
     "data": {
      "text/html": [
       "<div>\n",
       "<style scoped>\n",
       "    .dataframe tbody tr th:only-of-type {\n",
       "        vertical-align: middle;\n",
       "    }\n",
       "\n",
       "    .dataframe tbody tr th {\n",
       "        vertical-align: top;\n",
       "    }\n",
       "\n",
       "    .dataframe thead th {\n",
       "        text-align: right;\n",
       "    }\n",
       "</style>\n",
       "<table border=\"1\" class=\"dataframe\">\n",
       "  <thead>\n",
       "    <tr style=\"text-align: right;\">\n",
       "      <th></th>\n",
       "      <th>delegation</th>\n",
       "      <th>superficie</th>\n",
       "      <th>chambres</th>\n",
       "      <th>salle_de_bains</th>\n",
       "      <th>etat</th>\n",
       "      <th>etage</th>\n",
       "      <th>gouvernorat_ariana</th>\n",
       "      <th>gouvernorat_ben-arous</th>\n",
       "      <th>gouvernorat_la-manouba</th>\n",
       "      <th>gouvernorat_tunis</th>\n",
       "      <th>prix</th>\n",
       "    </tr>\n",
       "  </thead>\n",
       "  <tbody>\n",
       "    <tr>\n",
       "      <th>0</th>\n",
       "      <td>26.0</td>\n",
       "      <td>88</td>\n",
       "      <td>2</td>\n",
       "      <td>1</td>\n",
       "      <td>9</td>\n",
       "      <td>1</td>\n",
       "      <td>0.0</td>\n",
       "      <td>0.0</td>\n",
       "      <td>0.0</td>\n",
       "      <td>1.0</td>\n",
       "      <td>340000.0</td>\n",
       "    </tr>\n",
       "    <tr>\n",
       "      <th>1</th>\n",
       "      <td>23.0</td>\n",
       "      <td>100</td>\n",
       "      <td>2</td>\n",
       "      <td>1</td>\n",
       "      <td>9</td>\n",
       "      <td>1</td>\n",
       "      <td>0.0</td>\n",
       "      <td>0.0</td>\n",
       "      <td>0.0</td>\n",
       "      <td>1.0</td>\n",
       "      <td>135000.0</td>\n",
       "    </tr>\n",
       "    <tr>\n",
       "      <th>2</th>\n",
       "      <td>36.0</td>\n",
       "      <td>152</td>\n",
       "      <td>2</td>\n",
       "      <td>1</td>\n",
       "      <td>9</td>\n",
       "      <td>1</td>\n",
       "      <td>0.0</td>\n",
       "      <td>0.0</td>\n",
       "      <td>0.0</td>\n",
       "      <td>1.0</td>\n",
       "      <td>680000.0</td>\n",
       "    </tr>\n",
       "    <tr>\n",
       "      <th>3</th>\n",
       "      <td>36.0</td>\n",
       "      <td>120</td>\n",
       "      <td>1</td>\n",
       "      <td>1</td>\n",
       "      <td>9</td>\n",
       "      <td>1</td>\n",
       "      <td>0.0</td>\n",
       "      <td>0.0</td>\n",
       "      <td>0.0</td>\n",
       "      <td>1.0</td>\n",
       "      <td>470000.0</td>\n",
       "    </tr>\n",
       "    <tr>\n",
       "      <th>4</th>\n",
       "      <td>31.0</td>\n",
       "      <td>145</td>\n",
       "      <td>3</td>\n",
       "      <td>1</td>\n",
       "      <td>11</td>\n",
       "      <td>4</td>\n",
       "      <td>0.0</td>\n",
       "      <td>0.0</td>\n",
       "      <td>0.0</td>\n",
       "      <td>1.0</td>\n",
       "      <td>260000.0</td>\n",
       "    </tr>\n",
       "  </tbody>\n",
       "</table>\n",
       "</div>"
      ],
      "text/plain": [
       "   delegation  superficie  chambres  salle_de_bains  etat  etage  \\\n",
       "0        26.0          88         2               1     9      1   \n",
       "1        23.0         100         2               1     9      1   \n",
       "2        36.0         152         2               1     9      1   \n",
       "3        36.0         120         1               1     9      1   \n",
       "4        31.0         145         3               1    11      4   \n",
       "\n",
       "   gouvernorat_ariana  gouvernorat_ben-arous  gouvernorat_la-manouba  \\\n",
       "0                 0.0                    0.0                     0.0   \n",
       "1                 0.0                    0.0                     0.0   \n",
       "2                 0.0                    0.0                     0.0   \n",
       "3                 0.0                    0.0                     0.0   \n",
       "4                 0.0                    0.0                     0.0   \n",
       "\n",
       "   gouvernorat_tunis      prix  \n",
       "0                1.0  340000.0  \n",
       "1                1.0  135000.0  \n",
       "2                1.0  680000.0  \n",
       "3                1.0  470000.0  \n",
       "4                1.0  260000.0  "
      ]
     },
     "execution_count": 2,
     "metadata": {},
     "output_type": "execute_result"
    }
   ],
   "source": [
    "df= pd.read_csv('../csv/after_cleaning/mubawab_preprocessed.csv')\n",
    "df.head()"
   ]
  },
  {
   "cell_type": "markdown",
   "metadata": {},
   "source": [
    "**train test split**"
   ]
  },
  {
   "cell_type": "markdown",
   "metadata": {},
   "source": [
    "NOTE: Tree-based models are not affected by the scale of features because they split based on feature thresholds"
   ]
  },
  {
   "cell_type": "code",
   "execution_count": 3,
   "metadata": {},
   "outputs": [],
   "source": [
    "X= df.drop(columns='prix')\n",
    "\n",
    "y= df['prix']\n",
    "\n",
    "X_train, X_test, y_train, y_test= train_test_split(X, y, test_size=0.2, random_state=42)"
   ]
  },
  {
   "cell_type": "markdown",
   "metadata": {},
   "source": [
    "# Decision Tree"
   ]
  },
  {
   "cell_type": "markdown",
   "metadata": {},
   "source": [
    "**parameters tuning**"
   ]
  },
  {
   "cell_type": "code",
   "execution_count": 11,
   "metadata": {},
   "outputs": [
    {
     "name": "stdout",
     "output_type": "stream",
     "text": [
      "Fitting 5 folds for each of 180 candidates, totalling 900 fits\n",
      "Best parameters: {'max_depth': 10, 'max_features': None, 'min_samples_leaf': 4, 'min_samples_split': 5}\n",
      "Best CV score: 0.4951956624211512\n"
     ]
    },
    {
     "name": "stderr",
     "output_type": "stream",
     "text": [
      "/home/lost-elf/Apartments-Sales/venv/lib/python3.10/site-packages/sklearn/model_selection/_validation.py:528: FitFailedWarning: \n",
      "225 fits failed out of a total of 900.\n",
      "The score on these train-test partitions for these parameters will be set to nan.\n",
      "If these failures are not expected, you can try to debug them by setting error_score='raise'.\n",
      "\n",
      "Below are more details about the failures:\n",
      "--------------------------------------------------------------------------------\n",
      "124 fits failed with the following error:\n",
      "Traceback (most recent call last):\n",
      "  File \"/home/lost-elf/Apartments-Sales/venv/lib/python3.10/site-packages/sklearn/model_selection/_validation.py\", line 866, in _fit_and_score\n",
      "    estimator.fit(X_train, y_train, **fit_params)\n",
      "  File \"/home/lost-elf/Apartments-Sales/venv/lib/python3.10/site-packages/sklearn/base.py\", line 1382, in wrapper\n",
      "    estimator._validate_params()\n",
      "  File \"/home/lost-elf/Apartments-Sales/venv/lib/python3.10/site-packages/sklearn/base.py\", line 436, in _validate_params\n",
      "    validate_parameter_constraints(\n",
      "  File \"/home/lost-elf/Apartments-Sales/venv/lib/python3.10/site-packages/sklearn/utils/_param_validation.py\", line 98, in validate_parameter_constraints\n",
      "    raise InvalidParameterError(\n",
      "sklearn.utils._param_validation.InvalidParameterError: The 'max_features' parameter of DecisionTreeRegressor must be an int in the range [1, inf), a float in the range (0.0, 1.0], a str among {'log2', 'sqrt'} or None. Got 'auto' instead.\n",
      "\n",
      "--------------------------------------------------------------------------------\n",
      "101 fits failed with the following error:\n",
      "Traceback (most recent call last):\n",
      "  File \"/home/lost-elf/Apartments-Sales/venv/lib/python3.10/site-packages/sklearn/model_selection/_validation.py\", line 866, in _fit_and_score\n",
      "    estimator.fit(X_train, y_train, **fit_params)\n",
      "  File \"/home/lost-elf/Apartments-Sales/venv/lib/python3.10/site-packages/sklearn/base.py\", line 1382, in wrapper\n",
      "    estimator._validate_params()\n",
      "  File \"/home/lost-elf/Apartments-Sales/venv/lib/python3.10/site-packages/sklearn/base.py\", line 436, in _validate_params\n",
      "    validate_parameter_constraints(\n",
      "  File \"/home/lost-elf/Apartments-Sales/venv/lib/python3.10/site-packages/sklearn/utils/_param_validation.py\", line 98, in validate_parameter_constraints\n",
      "    raise InvalidParameterError(\n",
      "sklearn.utils._param_validation.InvalidParameterError: The 'max_features' parameter of DecisionTreeRegressor must be an int in the range [1, inf), a float in the range (0.0, 1.0], a str among {'sqrt', 'log2'} or None. Got 'auto' instead.\n",
      "\n",
      "  warnings.warn(some_fits_failed_message, FitFailedWarning)\n",
      "/home/lost-elf/Apartments-Sales/venv/lib/python3.10/site-packages/sklearn/model_selection/_search.py:1107: UserWarning: One or more of the test scores are non-finite: [        nan         nan         nan         nan         nan         nan\n",
      "         nan         nan         nan  0.35288334  0.37678379  0.41672164\n",
      "  0.41342594  0.41914203  0.41520037  0.42770214  0.41934179  0.40745202\n",
      "  0.43493484  0.4056909   0.43431321  0.45074333  0.454007    0.41725424\n",
      "  0.42122292  0.44980247  0.4628819   0.30871107  0.32703976  0.47102357\n",
      "  0.41992675  0.44366558  0.47385553  0.48486221  0.48329247  0.48539965\n",
      "         nan         nan         nan         nan         nan         nan\n",
      "         nan         nan         nan  0.10600631  0.3426652   0.4592264\n",
      "  0.27964592  0.43255422  0.45681028  0.46582565  0.43024078  0.47342458\n",
      "  0.09975256  0.42651639  0.41220914  0.44728729  0.34239479  0.36680929\n",
      "  0.46775037  0.41383211  0.46178228 -0.0545035   0.23056355  0.42586412\n",
      "  0.33680071  0.36727276  0.44905139  0.49516305  0.49519566  0.4901316\n",
      "         nan         nan         nan         nan         nan         nan\n",
      "         nan         nan         nan  0.30309811  0.36887266  0.44579303\n",
      "  0.40113148  0.47121979  0.38648025  0.47485884  0.44038319  0.45382275\n",
      "  0.26796565  0.38310664  0.33983836  0.29159147  0.4763738   0.42815757\n",
      "  0.42001035  0.38184541  0.42636295 -0.04735165  0.18453733  0.44620116\n",
      "  0.34049907  0.36856974  0.44243727  0.49404445  0.4943166   0.48845006\n",
      "         nan         nan         nan         nan         nan         nan\n",
      "         nan         nan         nan -0.00654083  0.29942918  0.37033877\n",
      "  0.42308471  0.36106065  0.47375347  0.44359036  0.48276678  0.4596715\n",
      "  0.19978102  0.36139076  0.43528535  0.35965053  0.30649558  0.38826836\n",
      "  0.45539954  0.48003737  0.4408101  -0.04325453  0.2125475   0.41971818\n",
      "  0.32732947  0.36040056  0.44549522  0.49152964  0.49163523  0.49104257\n",
      "         nan         nan         nan         nan         nan         nan\n",
      "         nan         nan         nan  0.30706788  0.35701166  0.45263095\n",
      "  0.36369029  0.43504051  0.37095655  0.43736432  0.43161653  0.45039611\n",
      "  0.11129364  0.35118116  0.41065162  0.43972836  0.39650127  0.43844848\n",
      "  0.44014696  0.4458129   0.47645433 -0.04833422  0.19260072  0.41931744\n",
      "  0.33616812  0.36603042  0.44677566  0.49418246  0.49155312  0.49104735]\n",
      "  warnings.warn(\n"
     ]
    }
   ],
   "source": [
    "\n",
    "# Hyperparameters to tune\n",
    "param_grid = {\n",
    "    'max_depth': [5, 10, 15, 20, None],\n",
    "    'min_samples_split': [2, 5, 10],\n",
    "    'min_samples_leaf': [1, 2, 4],\n",
    "    'max_features': ['auto', 'sqrt', 'log2', None]\n",
    "}\n",
    "\n",
    "# Grid Search\n",
    "grid_search = GridSearchCV(DecisionTreeRegressor(), param_grid, cv=5, n_jobs=-1, verbose=1)\n",
    "grid_search.fit(X_train, y_train)\n",
    "\n",
    "# Best parameters and best score\n",
    "print(\"Best parameters:\", grid_search.best_params_)\n",
    "print(\"Best CV score:\", grid_search.best_score_)\n"
   ]
  },
  {
   "cell_type": "code",
   "execution_count": 12,
   "metadata": {},
   "outputs": [],
   "source": [
    "model= DecisionTreeRegressor(**grid_search.best_params_)\n",
    "\n",
    "model.fit(X_train, y_train)\n",
    "\n",
    "y_hat= model.predict(X_test)"
   ]
  },
  {
   "cell_type": "code",
   "execution_count": 13,
   "metadata": {},
   "outputs": [
    {
     "name": "stdout",
     "output_type": "stream",
     "text": [
      "Mean Absolute Error (MAE): 120119.24648948117\n",
      "Root Mean Squared Error (RMSE): 200354.5862492513\n",
      "Mean Squared Error (MSE): 40141960231.10868\n",
      "R²: 0.6278779002273237\n"
     ]
    }
   ],
   "source": [
    "mae = mean_absolute_error(y_test, y_hat)\n",
    "mse = mean_squared_error(y_test, y_hat)\n",
    "rmse = np.sqrt(mean_squared_error(y_test, y_hat))\n",
    "r2 = r2_score(y_test, y_hat)\n",
    "\n",
    "print(f\"Mean Absolute Error (MAE): {mae}\")\n",
    "print(f\"Root Mean Squared Error (RMSE): {rmse}\")\n",
    "print(f\"Mean Squared Error (MSE): {mse}\")\n",
    "print(f\"R²: {r2}\")"
   ]
  },
  {
   "cell_type": "markdown",
   "metadata": {},
   "source": [
    "**R² is around 63% , this means that LR model explains about 63% of the variance in apartment prices.\n",
    "The higher the R², the better the model’s fit to the data.**"
   ]
  },
  {
   "cell_type": "markdown",
   "metadata": {},
   "source": [
    "**cross validation**"
   ]
  },
  {
   "cell_type": "code",
   "execution_count": 14,
   "metadata": {},
   "outputs": [
    {
     "data": {
      "image/png": "[encoded data removed]",
      "text/plain": [
       "<Figure size 640x480 with 1 Axes>"
      ]
     },
     "metadata": {},
     "output_type": "display_data"
    },
    {
     "name": "stdout",
     "output_type": "stream",
     "text": [
      "Average CV Score: 0.49519602563918513\n"
     ]
    }
   ],
   "source": [
    "cv_scores = cross_val_score(model, X_train, y_train, cv=5)\n",
    "\n",
    "# Plotting the cross-validation scores\n",
    "plt.boxplot(cv_scores)\n",
    "plt.title('Cross-Validation Scores for Decision Tree')\n",
    "plt.ylabel('Score')\n",
    "plt.show()\n",
    "\n",
    "print(f'Average CV Score: {cv_scores.mean()}')\n"
   ]
  },
  {
   "cell_type": "markdown",
   "metadata": {},
   "source": [
    "**around 50% accuracy**"
   ]
  },
  {
   "cell_type": "markdown",
   "metadata": {},
   "source": [
    "**learning curve**"
   ]
  },
  {
   "cell_type": "code",
   "execution_count": 19,
   "metadata": {},
   "outputs": [
    {
     "data": {
      "image/png": "[encoded data removed]",
      "text/plain": [
       "<Figure size 640x480 with 1 Axes>"
      ]
     },
     "metadata": {},
     "output_type": "display_data"
    }
   ],
   "source": [
    "\n",
    "train_sizes, train_scores, test_scores = learning_curve(model, X_train, y_train, cv=5)\n",
    "\n",
    "plt.plot(train_sizes, np.mean(train_scores, axis=1), label='Train score')\n",
    "plt.plot(train_sizes, np.mean(test_scores, axis=1), label='Test score')\n",
    "plt.xlabel('Training Size')\n",
    "plt.ylabel('Score')\n",
    "plt.title('Learning Curves')\n",
    "plt.legend()\n",
    "plt.show()\n"
   ]
  }
 ],
 "metadata": {
  "kernelspec": {
   "display_name": "venv",
   "language": "python",
   "name": "python3"
  },
  "language_info": {
   "codemirror_mode": {
    "name": "ipython",
    "version": 3
   },
   "file_extension": ".py",
   "mimetype": "text/x-python",
   "name": "python",
   "nbconvert_exporter": "python",
   "pygments_lexer": "ipython3",
   "version": "3.10.15"
  }
 },
 "nbformat": 4,
 "nbformat_minor": 2
}
