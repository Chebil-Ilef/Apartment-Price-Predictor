{
 "cells": [
  {
   "cell_type": "code",
   "execution_count": 10,
   "metadata": {},
   "outputs": [],
   "source": [
    "import pandas as pd\n",
    "from sklearn.model_selection import train_test_split,learning_curve, GridSearchCV\n",
    "from sklearn.preprocessing import StandardScaler\n",
    "from sklearn.metrics import mean_squared_error, r2_score, mean_absolute_error, mean_absolute_percentage_error\n",
    "import numpy as np\n",
    "import matplotlib.pyplot as plt\n",
    "from sklearn.svm import SVR\n",
    "\n"
   ]
  },
  {
   "cell_type": "code",
   "execution_count": 11,
   "metadata": {},
   "outputs": [
    {
     "data": {
      "text/html": [
       "<div>\n",
       "<style scoped>\n",
       "    .dataframe tbody tr th:only-of-type {\n",
       "        vertical-align: middle;\n",
       "    }\n",
       "\n",
       "    .dataframe tbody tr th {\n",
       "        vertical-align: top;\n",
       "    }\n",
       "\n",
       "    .dataframe thead th {\n",
       "        text-align: right;\n",
       "    }\n",
       "</style>\n",
       "<table border=\"1\" class=\"dataframe\">\n",
       "  <thead>\n",
       "    <tr style=\"text-align: right;\">\n",
       "      <th></th>\n",
       "      <th>delegation</th>\n",
       "      <th>superficie</th>\n",
       "      <th>chambres</th>\n",
       "      <th>salle_de_bains</th>\n",
       "      <th>etat</th>\n",
       "      <th>etage</th>\n",
       "      <th>gouvernorat_ariana</th>\n",
       "      <th>gouvernorat_ben-arous</th>\n",
       "      <th>gouvernorat_la-manouba</th>\n",
       "      <th>gouvernorat_tunis</th>\n",
       "      <th>prix</th>\n",
       "    </tr>\n",
       "  </thead>\n",
       "  <tbody>\n",
       "    <tr>\n",
       "      <th>0</th>\n",
       "      <td>21.0</td>\n",
       "      <td>62</td>\n",
       "      <td>1</td>\n",
       "      <td>1</td>\n",
       "      <td>10</td>\n",
       "      <td>1</td>\n",
       "      <td>0.0</td>\n",
       "      <td>0.0</td>\n",
       "      <td>0.0</td>\n",
       "      <td>1.0</td>\n",
       "      <td>259532.0</td>\n",
       "    </tr>\n",
       "    <tr>\n",
       "      <th>1</th>\n",
       "      <td>32.0</td>\n",
       "      <td>300</td>\n",
       "      <td>2</td>\n",
       "      <td>1</td>\n",
       "      <td>10</td>\n",
       "      <td>5</td>\n",
       "      <td>0.0</td>\n",
       "      <td>0.0</td>\n",
       "      <td>0.0</td>\n",
       "      <td>1.0</td>\n",
       "      <td>1208100.0</td>\n",
       "    </tr>\n",
       "    <tr>\n",
       "      <th>2</th>\n",
       "      <td>26.0</td>\n",
       "      <td>142</td>\n",
       "      <td>1</td>\n",
       "      <td>1</td>\n",
       "      <td>11</td>\n",
       "      <td>1</td>\n",
       "      <td>1.0</td>\n",
       "      <td>0.0</td>\n",
       "      <td>0.0</td>\n",
       "      <td>0.0</td>\n",
       "      <td>707302.0</td>\n",
       "    </tr>\n",
       "    <tr>\n",
       "      <th>3</th>\n",
       "      <td>29.0</td>\n",
       "      <td>281</td>\n",
       "      <td>3</td>\n",
       "      <td>2</td>\n",
       "      <td>11</td>\n",
       "      <td>8</td>\n",
       "      <td>0.0</td>\n",
       "      <td>0.0</td>\n",
       "      <td>0.0</td>\n",
       "      <td>1.0</td>\n",
       "      <td>1255227.0</td>\n",
       "    </tr>\n",
       "    <tr>\n",
       "      <th>4</th>\n",
       "      <td>26.0</td>\n",
       "      <td>153</td>\n",
       "      <td>1</td>\n",
       "      <td>1</td>\n",
       "      <td>10</td>\n",
       "      <td>1</td>\n",
       "      <td>1.0</td>\n",
       "      <td>0.0</td>\n",
       "      <td>0.0</td>\n",
       "      <td>0.0</td>\n",
       "      <td>687429.0</td>\n",
       "    </tr>\n",
       "  </tbody>\n",
       "</table>\n",
       "</div>"
      ],
      "text/plain": [
       "   delegation  superficie  chambres  salle_de_bains  etat  etage  \\\n",
       "0        21.0          62         1               1    10      1   \n",
       "1        32.0         300         2               1    10      5   \n",
       "2        26.0         142         1               1    11      1   \n",
       "3        29.0         281         3               2    11      8   \n",
       "4        26.0         153         1               1    10      1   \n",
       "\n",
       "   gouvernorat_ariana  gouvernorat_ben-arous  gouvernorat_la-manouba  \\\n",
       "0                 0.0                    0.0                     0.0   \n",
       "1                 0.0                    0.0                     0.0   \n",
       "2                 1.0                    0.0                     0.0   \n",
       "3                 0.0                    0.0                     0.0   \n",
       "4                 1.0                    0.0                     0.0   \n",
       "\n",
       "   gouvernorat_tunis       prix  \n",
       "0                1.0   259532.0  \n",
       "1                1.0  1208100.0  \n",
       "2                0.0   707302.0  \n",
       "3                1.0  1255227.0  \n",
       "4                0.0   687429.0  "
      ]
     },
     "execution_count": 11,
     "metadata": {},
     "output_type": "execute_result"
    }
   ],
   "source": [
    "df= pd.read_csv('../csv/after_cleaning/final.csv')\n",
    "df.head()"
   ]
  },
  {
   "cell_type": "markdown",
   "metadata": {},
   "source": [
    "**scaling and train test split**"
   ]
  },
  {
   "cell_type": "code",
   "execution_count": 12,
   "metadata": {},
   "outputs": [],
   "source": [
    "X= df.drop(columns='prix')\n",
    "\n",
    "y= df['prix']\n"
   ]
  },
  {
   "cell_type": "code",
   "execution_count": 13,
   "metadata": {},
   "outputs": [],
   "source": [
    "X_train, X_test, y_train, y_test = train_test_split(X, y, test_size=0.2, random_state=42)\n",
    "\n",
    "scaler = StandardScaler()\n",
    "X_train_scaled = scaler.fit_transform(X_train)\n",
    "\n",
    "# Apply the same scaler to the test data (do not fit again!)\n",
    "X_test_scaled = scaler.transform(X_test)\n"
   ]
  },
  {
   "cell_type": "markdown",
   "metadata": {},
   "source": [
    "# Support Vector Regression"
   ]
  },
  {
   "cell_type": "markdown",
   "metadata": {},
   "source": [
    "Support Vector regression is a type of Support vector machine that supports linear and non-linear regression. \n",
    "\n",
    "As it seems in the below graph, the mission is to fit as many instances as possible between the lines while limiting the margin violations."
   ]
  },
  {
   "cell_type": "markdown",
   "metadata": {},
   "source": [
    "**most important SVR parameter is Kernel type. It can be :\n",
    "linear,rbf, polynomial or sigmoid.**"
   ]
  },
  {
   "cell_type": "markdown",
   "metadata": {},
   "source": [
    "RBF kernel:\n",
    "\n",
    "Default choice for non-linear problems in SVMs.\n",
    "\n",
    "Captures complex relationships without prior knowledge of data.\n",
    "\n",
    "Sensitive to hyperparameter tuning, especially gamma.\n"
   ]
  },
  {
   "cell_type": "code",
   "execution_count": 26,
   "metadata": {},
   "outputs": [
    {
     "name": "stdout",
     "output_type": "stream",
     "text": [
      "Best Parameters: {'C': 10000, 'epsilon': 0.01, 'gamma': 0.1}\n"
     ]
    }
   ],
   "source": [
    "\n",
    "param_grid = {\n",
    "    'C': [0.1, 1, 10, 100, 1000, 10000],  \n",
    "    'gamma': [0.001, 0.01, 0.1, 0.5, 1],  \n",
    "    'epsilon': [0.01, 0.1, 0.2, 0.5]  \n",
    "}\n",
    "\n",
    "svr = SVR(kernel='rbf')\n",
    "grid_search = GridSearchCV(svr, param_grid, cv=5, scoring='r2', n_jobs=-1)\n",
    "grid_search.fit(X_train_scaled, y_train)\n",
    "\n",
    "print(\"Best Parameters:\", grid_search.best_params_)\n"
   ]
  },
  {
   "cell_type": "markdown",
   "metadata": {},
   "source": [
    "C parameter: C determines how many data samples are allowed to be placed in different classes. \n",
    "\n",
    "If the value of C is set to a low value, the probability of the outliers is increased, and the general decision boundary is found. \n",
    "\n",
    "\n",
    "If the value of C is set high, the decision boundary is found more carefully.\n",
    "\n",
    "A higher C results in a more complex model (risking overfitting).\n",
    "\n",
    "\n",
    "A lower C makes the model more tolerant to errors (risking underfitting).\n",
    "\n",
    "\n",
    "\n",
    "\n"
   ]
  },
  {
   "cell_type": "code",
   "execution_count": 27,
   "metadata": {},
   "outputs": [],
   "source": [
    "regressor = SVR(kernel='rbf', **grid_search.best_params_)\n",
    "regressor.fit(X_train_scaled,y_train)\n",
    "\n",
    "y_hat= regressor.predict(X_test_scaled)"
   ]
  },
  {
   "cell_type": "code",
   "execution_count": 33,
   "metadata": {},
   "outputs": [
    {
     "name": "stdout",
     "output_type": "stream",
     "text": [
      "Mean Absolute Error (MAE): 101615.34695621433\n",
      "Root Mean Squared Error (RMSE): 151328.5880839795\n",
      "Mean Squared Error (MSE): 22900341571.490746\n",
      "Mean Absolute Percentage Error (MAPE): 0.23549423018657048\n",
      "R²: 0.7615645900325297\n"
     ]
    }
   ],
   "source": [
    "mae = mean_absolute_error(y_test, y_hat)\n",
    "mse = mean_squared_error(y_test, y_hat)\n",
    "rmse = np.sqrt(mean_squared_error(y_test, y_hat))\n",
    "mape=mean_absolute_percentage_error(y_test, y_hat)\n",
    "r2= r2_score(y_test, y_hat)\n",
    "\n",
    "print(f\"Mean Absolute Error (MAE): {mae}\")\n",
    "print(f\"Root Mean Squared Error (RMSE): {rmse}\")\n",
    "print(f\"Mean Squared Error (MSE): {mse}\")\n",
    "print(f\"Mean Absolute Percentage Error (MAPE): {mape}\")\n",
    "print(f\"R²: {r2}\")"
   ]
  },
  {
   "cell_type": "code",
   "execution_count": 32,
   "metadata": {},
   "outputs": [
    {
     "name": "stdout",
     "output_type": "stream",
     "text": [
      "===== Training Metrics =====\n",
      "Mean Absolute Error (MAE): 114969.9097\n",
      "Root Mean Squared Error (RMSE): 215249.3834\n",
      "Mean Squared Error (MSE): 46332297073.6073\n",
      "Mean Absolute Percentage Error (MAPE): 0.2517\n",
      "R²: 0.6406\n",
      "\n",
      "===== Testing Metrics =====\n",
      "Mean Absolute Error (MAE): 101615.3470\n",
      "Root Mean Squared Error (RMSE): 151328.5881\n",
      "Mean Squared Error (MSE): 22900341571.4907\n",
      "Mean Absolute Percentage Error (MAPE): 0.2355\n",
      "R²: 0.7616\n"
     ]
    }
   ],
   "source": [
    "y_train_pred = regressor.predict(X_train_scaled)\n",
    "y_test_pred = regressor.predict(X_test_scaled)\n",
    "\n",
    "# Train metrics\n",
    "mae_train = mean_absolute_error(y_train, y_train_pred)\n",
    "mse_train = mean_squared_error(y_train, y_train_pred)\n",
    "rmse_train = np.sqrt(mse_train)\n",
    "mape_train = mean_absolute_percentage_error(y_train, y_train_pred)\n",
    "r2_train = r2_score(y_train, y_train_pred)\n",
    "\n",
    "# Test metrics\n",
    "mae_test = mean_absolute_error(y_test, y_test_pred)\n",
    "mse_test = mean_squared_error(y_test, y_test_pred)\n",
    "rmse_test = np.sqrt(mse_test)\n",
    "mape_test = mean_absolute_percentage_error(y_test, y_test_pred)\n",
    "r2_test = r2_score(y_test, y_test_pred)\n",
    "\n",
    "# Display results\n",
    "print(\"===== Training Metrics =====\")\n",
    "print(f\"Mean Absolute Error (MAE): {mae_train:.4f}\")\n",
    "print(f\"Root Mean Squared Error (RMSE): {rmse_train:.4f}\")\n",
    "print(f\"Mean Squared Error (MSE): {mse_train:.4f}\")\n",
    "print(f\"Mean Absolute Percentage Error (MAPE): {mape_train:.4f}\")\n",
    "print(f\"R²: {r2_train:.4f}\")\n",
    "\n",
    "print(\"\\n===== Testing Metrics =====\")\n",
    "print(f\"Mean Absolute Error (MAE): {mae_test:.4f}\")\n",
    "print(f\"Root Mean Squared Error (RMSE): {rmse_test:.4f}\")\n",
    "print(f\"Mean Squared Error (MSE): {mse_test:.4f}\")\n",
    "print(f\"Mean Absolute Percentage Error (MAPE): {mape_test:.4f}\")\n",
    "print(f\"R²: {r2_test:.4f}\")\n"
   ]
  },
  {
   "cell_type": "markdown",
   "metadata": {},
   "source": [
    "**R² is around 76% , this means that LR model explains about 76% of the variance in apartment prices.\n",
    "The higher the R², the better the model’s fit to the data.**\n",
    "\n",
    "\n",
    "**but difference between train and test is due to C being very high**!\n"
   ]
  },
  {
   "cell_type": "markdown",
   "metadata": {},
   "source": [
    "**learning curve**"
   ]
  },
  {
   "cell_type": "code",
   "execution_count": 31,
   "metadata": {},
   "outputs": [
    {
     "data": {
      "image/png": "[encoded data removed]",
      "text/plain": [
       "<Figure size 640x480 with 1 Axes>"
      ]
     },
     "metadata": {},
     "output_type": "display_data"
    }
   ],
   "source": [
    "\n",
    "train_sizes, train_scores, test_scores = learning_curve(regressor, X_train_scaled, y_train, cv=5)\n",
    "\n",
    "plt.plot(train_sizes, np.mean(train_scores, axis=1), label='Train score')\n",
    "plt.plot(train_sizes, np.mean(test_scores, axis=1), label='Test score')\n",
    "plt.xlabel('Training Size')\n",
    "plt.ylabel('Score')\n",
    "plt.title('Learning Curves')\n",
    "plt.legend()\n",
    "plt.show()\n"
   ]
  },
  {
   "cell_type": "code",
   "execution_count": null,
   "metadata": {},
   "outputs": [],
   "source": []
  }
 ],
 "metadata": {
  "kernelspec": {
   "display_name": "venv",
   "language": "python",
   "name": "python3"
  },
  "language_info": {
   "codemirror_mode": {
    "name": "ipython",
    "version": 3
   },
   "file_extension": ".py",
   "mimetype": "text/x-python",
   "name": "python",
   "nbconvert_exporter": "python",
   "pygments_lexer": "ipython3",
   "version": "3.10.15"
  }
 },
 "nbformat": 4,
 "nbformat_minor": 2
}
